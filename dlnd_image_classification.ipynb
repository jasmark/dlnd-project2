{
 "cells": [
  {
   "cell_type": "markdown",
   "metadata": {
    "collapsed": true,
    "deletable": true,
    "editable": true
   },
   "source": [
    "# Image Classification\n",
    "In this project, you'll classify images from the [CIFAR-10 dataset](https://www.cs.toronto.edu/~kriz/cifar.html).  The dataset consists of airplanes, dogs, cats, and other objects. You'll preprocess the images, then train a convolutional neural network on all the samples. The images need to be normalized and the labels need to be one-hot encoded.  You'll get to apply what you learned and build a convolutional, max pooling, dropout, and fully connected layers.  At the end, you'll get to see your neural network's predictions on the sample images.\n",
    "## Get the Data\n",
    "Run the following cell to download the [CIFAR-10 dataset for python](https://www.cs.toronto.edu/~kriz/cifar-10-python.tar.gz)."
   ]
  },
  {
   "cell_type": "code",
   "execution_count": 30,
   "metadata": {
    "collapsed": false,
    "deletable": true,
    "editable": true
   },
   "outputs": [
    {
     "name": "stdout",
     "output_type": "stream",
     "text": [
      "All files found!\n"
     ]
    }
   ],
   "source": [
    "\"\"\"\n",
    "DON'T MODIFY ANYTHING IN THIS CELL THAT IS BELOW THIS LINE\n",
    "\"\"\"\n",
    "from urllib.request import urlretrieve\n",
    "from os.path import isfile, isdir\n",
    "from tqdm import tqdm\n",
    "import problem_unittests as tests\n",
    "import tarfile\n",
    "\n",
    "cifar10_dataset_folder_path = 'cifar-10-batches-py'\n",
    "\n",
    "class DLProgress(tqdm):\n",
    "    last_block = 0\n",
    "\n",
    "    def hook(self, block_num=1, block_size=1, total_size=None):\n",
    "        self.total = total_size\n",
    "        self.update((block_num - self.last_block) * block_size)\n",
    "        self.last_block = block_num\n",
    "\n",
    "if not isfile('cifar-10-python.tar.gz'):\n",
    "    with DLProgress(unit='B', unit_scale=True, miniters=1, desc='CIFAR-10 Dataset') as pbar:\n",
    "        urlretrieve(\n",
    "            'https://www.cs.toronto.edu/~kriz/cifar-10-python.tar.gz',\n",
    "            'cifar-10-python.tar.gz',\n",
    "            pbar.hook)\n",
    "\n",
    "if not isdir(cifar10_dataset_folder_path):\n",
    "    with tarfile.open('cifar-10-python.tar.gz') as tar:\n",
    "        tar.extractall()\n",
    "        tar.close()\n",
    "\n",
    "\n",
    "tests.test_folder_path(cifar10_dataset_folder_path)"
   ]
  },
  {
   "cell_type": "markdown",
   "metadata": {
    "deletable": true,
    "editable": true
   },
   "source": [
    "## Explore the Data\n",
    "The dataset is broken into batches to prevent your machine from running out of memory.  The CIFAR-10 dataset consists of 5 batches, named `data_batch_1`, `data_batch_2`, etc.. Each batch contains the labels and images that are one of the following:\n",
    "* airplane\n",
    "* automobile\n",
    "* bird\n",
    "* cat\n",
    "* deer\n",
    "* dog\n",
    "* frog\n",
    "* horse\n",
    "* ship\n",
    "* truck\n",
    "\n",
    "Understanding a dataset is part of making predictions on the data.  Play around with the code cell below by changing the `batch_id` and `sample_id`. The `batch_id` is the id for a batch (1-5). The `sample_id` is the id for a image and label pair in the batch.\n",
    "\n",
    "Ask yourself \"What are all possible labels?\", \"What is the range of values for the image data?\", \"Are the labels in order or random?\".  Answers to questions like these will help you preprocess the data and end up with better predictions."
   ]
  },
  {
   "cell_type": "code",
   "execution_count": 31,
   "metadata": {
    "collapsed": false,
    "deletable": true,
    "editable": true
   },
   "outputs": [
    {
     "name": "stdout",
     "output_type": "stream",
     "text": [
      "\n",
      "Stats of batch 1:\n",
      "Samples: 10000\n",
      "Label Counts: {0: 1005, 1: 974, 2: 1032, 3: 1016, 4: 999, 5: 937, 6: 1030, 7: 1001, 8: 1025, 9: 981}\n",
      "First 20 Labels: [6, 9, 9, 4, 1, 1, 2, 7, 8, 3, 4, 7, 7, 2, 9, 9, 9, 3, 2, 6]\n",
      "\n",
      "Example of Image 5:\n",
      "Image - Min Value: 0 Max Value: 252\n",
      "Image - Shape: (32, 32, 3)\n",
      "Label - Label Id: 1 Name: automobile\n"
     ]
    },
    {
     "data": {
      "image/png": "[encoded data removed]",
      "text/plain": [
       "<matplotlib.figure.Figure at 0x7fc836639dd8>"
      ]
     },
     "metadata": {
      "image/png": {
       "height": 250,
       "width": 253
      }
     },
     "output_type": "display_data"
    }
   ],
   "source": [
    "%matplotlib inline\n",
    "%config InlineBackend.figure_format = 'retina'\n",
    "\n",
    "import helper\n",
    "import numpy as np\n",
    "\n",
    "# Explore the dataset\n",
    "batch_id = 1\n",
    "sample_id = 5\n",
    "helper.display_stats(cifar10_dataset_folder_path, batch_id, sample_id)"
   ]
  },
  {
   "cell_type": "markdown",
   "metadata": {
    "deletable": true,
    "editable": true
   },
   "source": [
    "## Implement Preprocess Functions\n",
    "### Normalize\n",
    "In the cell below, implement the `normalize` function to take in image data, `x`, and return it as a normalized Numpy array. The values should be in the range of 0 to 1, inclusive.  The return object should be the same shape as `x`."
   ]
  },
  {
   "cell_type": "code",
   "execution_count": 32,
   "metadata": {
    "collapsed": false,
    "deletable": true,
    "editable": true
   },
   "outputs": [
    {
     "name": "stdout",
     "output_type": "stream",
     "text": [
      "Tests Passed\n"
     ]
    }
   ],
   "source": [
    "def normalize(x):\n",
    "    \"\"\"\n",
    "    Normalize a list of sample image data in the range of 0 to 1\n",
    "    : x: List of image data.  The image shape is (32, 32, 3)\n",
    "    : return: Numpy array of normalize data\n",
    "    \"\"\"\n",
    "    return np.array(x/255)\n",
    "\n",
    "\n",
    "\"\"\"\n",
    "DON'T MODIFY ANYTHING IN THIS CELL THAT IS BELOW THIS LINE\n",
    "\"\"\"\n",
    "tests.test_normalize(normalize)"
   ]
  },
  {
   "cell_type": "markdown",
   "metadata": {
    "deletable": true,
    "editable": true
   },
   "source": [
    "### One-hot encode\n",
    "Just like the previous code cell, you'll be implementing a function for preprocessing.  This time, you'll implement the `one_hot_encode` function. The input, `x`, are a list of labels.  Implement the function to return the list of labels as One-Hot encoded Numpy array.  The possible values for labels are 0 to 9. The one-hot encoding function should return the same encoding for each value between each call to `one_hot_encode`.  Make sure to save the map of encodings outside the function.\n",
    "\n",
    "Hint: Don't reinvent the wheel."
   ]
  },
  {
   "cell_type": "code",
   "execution_count": 33,
   "metadata": {
    "collapsed": false,
    "deletable": true,
    "editable": true
   },
   "outputs": [
    {
     "name": "stdout",
     "output_type": "stream",
     "text": [
      "Tests Passed\n"
     ]
    }
   ],
   "source": [
    "def one_hot_encode(x):\n",
    "    \"\"\"\n",
    "    One hot encode a list of sample labels. Return a one-hot encoded vector for each label.\n",
    "    : x: List of sample Labels\n",
    "    : return: Numpy array of one-hot encoded labels\n",
    "    \"\"\"\n",
    "    one_hot = np.zeros(shape=(len(x), 10))\n",
    "    for i in range(len(x)):\n",
    "        for j in range(10):\n",
    "            one_hot[i][j] = (j == x[i])\n",
    "    return one_hot\n",
    "\n",
    "\n",
    "\"\"\"\n",
    "DON'T MODIFY ANYTHING IN THIS CELL THAT IS BELOW THIS LINE\n",
    "\"\"\"\n",
    "tests.test_one_hot_encode(one_hot_encode)"
   ]
  },
  {
   "cell_type": "markdown",
   "metadata": {
    "deletable": true,
    "editable": true
   },
   "source": [
    "### Randomize Data\n",
    "As you saw from exploring the data above, the order of the samples are randomized.  It doesn't hurt to randomize it again, but you don't need to for this dataset."
   ]
  },
  {
   "cell_type": "markdown",
   "metadata": {
    "deletable": true,
    "editable": true
   },
   "source": [
    "## Preprocess all the data and save it\n",
    "Running the code cell below will preprocess all the CIFAR-10 data and save it to file. The code below also uses 10% of the training data for validation."
   ]
  },
  {
   "cell_type": "code",
   "execution_count": 34,
   "metadata": {
    "collapsed": false,
    "deletable": true,
    "editable": true
   },
   "outputs": [],
   "source": [
    "\"\"\"\n",
    "DON'T MODIFY ANYTHING IN THIS CELL\n",
    "\"\"\"\n",
    "# Preprocess Training, Validation, and Testing Data\n",
    "helper.preprocess_and_save_data(cifar10_dataset_folder_path, normalize, one_hot_encode)"
   ]
  },
  {
   "cell_type": "markdown",
   "metadata": {
    "deletable": true,
    "editable": true
   },
   "source": [
    "# Check Point\n",
    "This is your first checkpoint.  If you ever decide to come back to this notebook or have to restart the notebook, you can start from here.  The preprocessed data has been saved to disk."
   ]
  },
  {
   "cell_type": "code",
   "execution_count": 35,
   "metadata": {
    "collapsed": true,
    "deletable": true,
    "editable": true
   },
   "outputs": [],
   "source": [
    "\"\"\"\n",
    "DON'T MODIFY ANYTHING IN THIS CELL\n",
    "\"\"\"\n",
    "import pickle\n",
    "import problem_unittests as tests\n",
    "import helper\n",
    "\n",
    "# Load the Preprocessed Validation data\n",
    "valid_features, valid_labels = pickle.load(open('preprocess_validation.p', mode='rb'))"
   ]
  },
  {
   "cell_type": "markdown",
   "metadata": {
    "deletable": true,
    "editable": true
   },
   "source": [
    "## Build the network\n",
    "For the neural network, you'll build each layer into a function.  Most of the code you've seen has been outside of functions. To test your code more thoroughly, we require that you put each layer in a function.  This allows us to give you better feedback and test for simple mistakes using our unittests before you submit your project.\n",
    "\n",
    ">**Note:** If you're finding it hard to dedicate enough time for this course each week, we've provided a small shortcut to this part of the project. In the next couple of problems, you'll have the option to use classes from the [TensorFlow Layers](https://www.tensorflow.org/api_docs/python/tf/layers) or [TensorFlow Layers (contrib)](https://www.tensorflow.org/api_guides/python/contrib.layers) packages to build each layer, except the layers you build in the \"Convolutional and Max Pooling Layer\" section.  TF Layers is similar to Keras's and TFLearn's abstraction to layers, so it's easy to pickup.\n",
    "\n",
    ">However, if you would like to get the most out of this course, try to solve all the problems _without_ using anything from the TF Layers packages. You **can** still use classes from other packages that happen to have the same name as ones you find in TF Layers! For example, instead of using the TF Layers version of the `conv2d` class, [tf.layers.conv2d](https://www.tensorflow.org/api_docs/python/tf/layers/conv2d), you would want to use the TF Neural Network version of `conv2d`, [tf.nn.conv2d](https://www.tensorflow.org/api_docs/python/tf/nn/conv2d). \n",
    "\n",
    "Let's begin!\n",
    "\n",
    "### Input\n",
    "The neural network needs to read the image data, one-hot encoded labels, and dropout keep probability. Implement the following functions\n",
    "* Implement `neural_net_image_input`\n",
    " * Return a [TF Placeholder](https://www.tensorflow.org/api_docs/python/tf/placeholder)\n",
    " * Set the shape using `image_shape` with batch size set to `None`.\n",
    " * Name the TensorFlow placeholder \"x\" using the TensorFlow `name` parameter in the [TF Placeholder](https://www.tensorflow.org/api_docs/python/tf/placeholder).\n",
    "* Implement `neural_net_label_input`\n",
    " * Return a [TF Placeholder](https://www.tensorflow.org/api_docs/python/tf/placeholder)\n",
    " * Set the shape using `n_classes` with batch size set to `None`.\n",
    " * Name the TensorFlow placeholder \"y\" using the TensorFlow `name` parameter in the [TF Placeholder](https://www.tensorflow.org/api_docs/python/tf/placeholder).\n",
    "* Implement `neural_net_keep_prob_input`\n",
    " * Return a [TF Placeholder](https://www.tensorflow.org/api_docs/python/tf/placeholder) for dropout keep probability.\n",
    " * Name the TensorFlow placeholder \"keep_prob\" using the TensorFlow `name` parameter in the [TF Placeholder](https://www.tensorflow.org/api_docs/python/tf/placeholder).\n",
    "\n",
    "These names will be used at the end of the project to load your saved model.\n",
    "\n",
    "Note: `None` for shapes in TensorFlow allow for a dynamic size."
   ]
  },
  {
   "cell_type": "code",
   "execution_count": 36,
   "metadata": {
    "collapsed": false,
    "deletable": true,
    "editable": true
   },
   "outputs": [
    {
     "name": "stdout",
     "output_type": "stream",
     "text": [
      "Image Input Tests Passed.\n",
      "Label Input Tests Passed.\n",
      "Keep Prob Tests Passed.\n"
     ]
    }
   ],
   "source": [
    "import tensorflow as tf\n",
    "\n",
    "def neural_net_image_input(image_shape):\n",
    "    \"\"\"\n",
    "    Return a Tensor for a batch of image input\n",
    "    : image_shape: Shape of the images\n",
    "    : return: Tensor for image input.\n",
    "    \"\"\"\n",
    "    return tf.placeholder(tf.float32, shape=[None, image_shape[0], image_shape[1], image_shape[2]], name='x')\n",
    "\n",
    "\n",
    "def neural_net_label_input(n_classes):\n",
    "    \"\"\"\n",
    "    Return a Tensor for a batch of label input\n",
    "    : n_classes: Number of classes\n",
    "    : return: Tensor for label input.\n",
    "    \"\"\"\n",
    "    return tf.placeholder(tf.float32, shape=[None, n_classes], name='y')\n",
    "\n",
    "\n",
    "def neural_net_keep_prob_input():\n",
    "    \"\"\"\n",
    "    Return a Tensor for keep probability\n",
    "    : return: Tensor for keep probability.\n",
    "    \"\"\"\n",
    "    return tf.placeholder(tf.float32, name='keep_prob')\n",
    "\n",
    "\n",
    "\n",
    "\"\"\"\n",
    "DON'T MODIFY ANYTHING IN THIS CELL THAT IS BELOW THIS LINE\n",
    "\"\"\"\n",
    "tf.reset_default_graph()\n",
    "tests.test_nn_image_inputs(neural_net_image_input)\n",
    "tests.test_nn_label_inputs(neural_net_label_input)\n",
    "tests.test_nn_keep_prob_inputs(neural_net_keep_prob_input)"
   ]
  },
  {
   "cell_type": "markdown",
   "metadata": {
    "deletable": true,
    "editable": true
   },
   "source": [
    "### Convolution and Max Pooling Layer\n",
    "Convolution layers have a lot of success with images. For this code cell, you should implement the function `conv2d_maxpool` to apply convolution then max pooling:\n",
    "* Create the weight and bias using `conv_ksize`, `conv_num_outputs` and the shape of `x_tensor`.\n",
    "* Apply a convolution to `x_tensor` using weight and `conv_strides`.\n",
    " * We recommend you use same padding, but you're welcome to use any padding.\n",
    "* Add bias\n",
    "* Add a nonlinear activation to the convolution.\n",
    "* Apply Max Pooling using `pool_ksize` and `pool_strides`.\n",
    " * We recommend you use same padding, but you're welcome to use any padding.\n",
    "\n",
    "**Note:** You **can't** use [TensorFlow Layers](https://www.tensorflow.org/api_docs/python/tf/layers) or [TensorFlow Layers (contrib)](https://www.tensorflow.org/api_guides/python/contrib.layers) for **this** layer, but you can still use TensorFlow's [Neural Network](https://www.tensorflow.org/api_docs/python/tf/nn) package. You may still use the shortcut option for all the **other** layers."
   ]
  },
  {
   "cell_type": "code",
   "execution_count": 37,
   "metadata": {
    "collapsed": false,
    "deletable": true,
    "editable": true
   },
   "outputs": [
    {
     "name": "stdout",
     "output_type": "stream",
     "text": [
      "Tests Passed\n"
     ]
    }
   ],
   "source": [
    "def conv2d_maxpool(x_tensor, conv_num_outputs, conv_ksize, conv_strides, pool_ksize, pool_strides):\n",
    "    \"\"\"\n",
    "    Apply convolution then max pooling to x_tensor\n",
    "    :param x_tensor: TensorFlow Tensor\n",
    "    :param conv_num_outputs: Number of outputs for the convolutional layer\n",
    "    :param conv_ksize: kernal size 2-D Tuple for the convolutional layer\n",
    "    :param conv_strides: Stride 2-D Tuple for convolution\n",
    "    :param pool_ksize: kernal size 2-D Tuple for pool\n",
    "    :param pool_strides: Stride 2-D Tuple for pool\n",
    "    : return: A tensor that represents convolution and max pooling of x_tensor\n",
    "    \"\"\"\n",
    "    input_channel_depth = int(x_tensor.get_shape()[3])\n",
    "    # The shape of the filter weight is (height, width, input_depth, output_depth)\n",
    "    filter_weights = tf.Variable(tf.truncated_normal([*conv_ksize, input_channel_depth, conv_num_outputs], dtype=tf.float32, mean=0, stddev = 0.1))\n",
    "    # The shape of the biases is equal the the number of outputs of the conv layer\n",
    "    filter_biases = tf.Variable(tf.constant(0, shape=[conv_num_outputs], dtype=tf.float32))\n",
    "    \n",
    "    layer = tf.nn.conv2d(input=x_tensor, filter=filter_weights, strides=[1, *conv_strides, 1], padding='SAME')\n",
    "    layer += filter_biases\n",
    "    layer = tf.nn.max_pool(layer, [1, *pool_ksize, 1], strides=[1, *pool_strides, 1], padding='SAME')\n",
    "    return tf.nn.relu(layer)\n",
    "\n",
    "\n",
    "\"\"\"\n",
    "DON'T MODIFY ANYTHING IN THIS CELL THAT IS BELOW THIS LINE\n",
    "\"\"\"\n",
    "tests.test_con_pool(conv2d_maxpool)"
   ]
  },
  {
   "cell_type": "markdown",
   "metadata": {
    "deletable": true,
    "editable": true
   },
   "source": [
    "### Flatten Layer\n",
    "Implement the `flatten` function to change the dimension of `x_tensor` from a 4-D tensor to a 2-D tensor.  The output should be the shape (*Batch Size*, *Flattened Image Size*). Shortcut option: you can use classes from the [TensorFlow Layers](https://www.tensorflow.org/api_docs/python/tf/layers) or [TensorFlow Layers (contrib)](https://www.tensorflow.org/api_guides/python/contrib.layers) packages for this layer. For more of a challenge, only use other TensorFlow packages."
   ]
  },
  {
   "cell_type": "code",
   "execution_count": 38,
   "metadata": {
    "collapsed": false,
    "deletable": true,
    "editable": true
   },
   "outputs": [
    {
     "name": "stdout",
     "output_type": "stream",
     "text": [
      "Tests Passed\n"
     ]
    }
   ],
   "source": [
    "def flatten(x_tensor):\n",
    "    \"\"\"\n",
    "    Flatten x_tensor to (Batch Size, Flattened Image Size)\n",
    "    : x_tensor: A tensor of size (Batch Size, ...), where ... are the image dimensions.\n",
    "    : return: A tensor of size (Batch Size, Flattened Image Size).\n",
    "    \"\"\"\n",
    "    batch_size = x_tensor.get_shape().as_list()[0]\n",
    "    \n",
    "    width = x_tensor.get_shape().as_list()[1]\n",
    "    height = x_tensor.get_shape().as_list()[2]\n",
    "    depth = x_tensor.get_shape().as_list()[3]\n",
    "    \n",
    "    image_flat_size = width*height*depth\n",
    "    return tf.contrib.layers.flatten(x_tensor, [batch_size, image_flat_size])\n",
    "\n",
    "\n",
    "\"\"\"\n",
    "DON'T MODIFY ANYTHING IN THIS CELL THAT IS BELOW THIS LINE\n",
    "\"\"\"\n",
    "tests.test_flatten(flatten)"
   ]
  },
  {
   "cell_type": "markdown",
   "metadata": {
    "deletable": true,
    "editable": true
   },
   "source": [
    "### Fully-Connected Layer\n",
    "Implement the `fully_conn` function to apply a fully connected layer to `x_tensor` with the shape (*Batch Size*, *num_outputs*). Shortcut option: you can use classes from the [TensorFlow Layers](https://www.tensorflow.org/api_docs/python/tf/layers) or [TensorFlow Layers (contrib)](https://www.tensorflow.org/api_guides/python/contrib.layers) packages for this layer. For more of a challenge, only use other TensorFlow packages."
   ]
  },
  {
   "cell_type": "code",
   "execution_count": 39,
   "metadata": {
    "collapsed": false,
    "deletable": true,
    "editable": true
   },
   "outputs": [
    {
     "name": "stdout",
     "output_type": "stream",
     "text": [
      "Tests Passed\n"
     ]
    }
   ],
   "source": [
    "def fully_conn(x_tensor, num_outputs):\n",
    "    \"\"\"\n",
    "    Apply a fully connected layer to x_tensor using weight and bias\n",
    "    : x_tensor: A 2-D tensor where the first dimension is batch size.\n",
    "    : num_outputs: The number of output that the new tensor should be.\n",
    "    : return: A 2-D tensor where the second dimension is num_outputs.\n",
    "    \"\"\"\n",
    "    # TODO: Implement Function\n",
    "    return tf.contrib.layers.fully_connected(inputs = x_tensor, \n",
    "                                             num_outputs = num_outputs,\n",
    "                                             activation_fn = tf.nn.relu)\n",
    "\n",
    "\n",
    "\"\"\"\n",
    "DON'T MODIFY ANYTHING IN THIS CELL THAT IS BELOW THIS LINE\n",
    "\"\"\"\n",
    "tests.test_fully_conn(fully_conn)"
   ]
  },
  {
   "cell_type": "markdown",
   "metadata": {
    "deletable": true,
    "editable": true
   },
   "source": [
    "### Output Layer\n",
    "Implement the `output` function to apply a fully connected layer to `x_tensor` with the shape (*Batch Size*, *num_outputs*). Shortcut option: you can use classes from the [TensorFlow Layers](https://www.tensorflow.org/api_docs/python/tf/layers) or [TensorFlow Layers (contrib)](https://www.tensorflow.org/api_guides/python/contrib.layers) packages for this layer. For more of a challenge, only use other TensorFlow packages.\n",
    "\n",
    "**Note:** Activation, softmax, or cross entropy should **not** be applied to this."
   ]
  },
  {
   "cell_type": "code",
   "execution_count": 40,
   "metadata": {
    "collapsed": false,
    "deletable": true,
    "editable": true
   },
   "outputs": [
    {
     "name": "stdout",
     "output_type": "stream",
     "text": [
      "Tests Passed\n"
     ]
    }
   ],
   "source": [
    "def output(x_tensor, num_outputs):\n",
    "    \"\"\"\n",
    "    Apply a output layer to x_tensor using weight and bias\n",
    "    : x_tensor: A 2-D tensor where the first dimension is batch size.\n",
    "    : num_outputs: The number of output that the new tensor should be.\n",
    "    : return: A 2-D tensor where the second dimension is num_outputs.\n",
    "    \"\"\"\n",
    "    # TODO: Implement Function\n",
    "    return tf.contrib.layers.fully_connected(inputs = x_tensor, \n",
    "                                             num_outputs = num_outputs,\n",
    "                                             activation_fn = None)\n",
    "\n",
    "\n",
    "\n",
    "\"\"\"\n",
    "DON'T MODIFY ANYTHING IN THIS CELL THAT IS BELOW THIS LINE\n",
    "\"\"\"\n",
    "tests.test_output(output)"
   ]
  },
  {
   "cell_type": "markdown",
   "metadata": {
    "deletable": true,
    "editable": true
   },
   "source": [
    "### Create Convolutional Model\n",
    "Implement the function `conv_net` to create a convolutional neural network model. The function takes in a batch of images, `x`, and outputs logits.  Use the layers you created above to create this model:\n",
    "\n",
    "* Apply 1, 2, or 3 Convolution and Max Pool layers\n",
    "* Apply a Flatten Layer\n",
    "* Apply 1, 2, or 3 Fully Connected Layers\n",
    "* Apply an Output Layer\n",
    "* Return the output\n",
    "* Apply [TensorFlow's Dropout](https://www.tensorflow.org/api_docs/python/tf/nn/dropout) to one or more layers in the model using `keep_prob`. "
   ]
  },
  {
   "cell_type": "code",
   "execution_count": 41,
   "metadata": {
    "collapsed": false,
    "deletable": true,
    "editable": true
   },
   "outputs": [
    {
     "name": "stdout",
     "output_type": "stream",
     "text": [
      "Neural Network Built!\n"
     ]
    }
   ],
   "source": [
    "def conv_net(x, keep_prob):\n",
    "    \"\"\"\n",
    "    Create a convolutional neural network model\n",
    "    : x: Placeholder tensor that holds image data.\n",
    "    : keep_prob: Placeholder tensor that hold dropout keep probability.\n",
    "    : return: Tensor that represents logits\n",
    "    \"\"\"\n",
    "    # TODO: Apply 1, 2, or 3 Convolution and Max Pool layers\n",
    "    #    Play around with different number of outputs, kernel size and stride\n",
    "    # Function Definition from Above:\n",
    "    #    conv2d_maxpool(x_tensor, conv_num_outputs, conv_ksize, conv_strides, pool_ksize, pool_strides)\n",
    "    \n",
    "    #lyr1 = conv2d_maxpool(x,6,(5, 5), (1, 1),(2,2),(2,2))\n",
    "    #lyr2 = conv2d_maxpool(lyr1,16,(5, 5), (1, 1),(2, 2), (2, 2))\n",
    "    #lyr3 = tf.layers.dropout(lyr2, rate = 0.5)\n",
    "    #lyr4 = flatten(lyr3) \n",
    "    #lyr5 = fully_conn(lyr4,384)\n",
    "    #lyr6 = fully_conn(lyr5, 128)\n",
    "    #out = output(lyr6,10)\n",
    "    \n",
    "    lyr1 = conv2d_maxpool(x,6,(5, 5), (1, 1),(2,2),(2,2))\n",
    "    lyr2 = conv2d_maxpool(lyr1,16,(5, 5), (1, 1),(2, 2), (2, 2))\n",
    "    lyr3 = tf.layers.dropout(lyr2, rate = 0.5)    \n",
    "    lyr4 = flatten(lyr3)    \n",
    "    lyr5 = fully_conn(lyr4,120)\n",
    "    lyr6 = tf.layers.dropout(lyr5, rate = 0.5)\n",
    "    \n",
    "    out = output(lyr6,10)\n",
    "    return out\n",
    "\n",
    "\n",
    "\"\"\"\n",
    "DON'T MODIFY ANYTHING IN THIS CELL THAT IS BELOW THIS LINE\n",
    "\"\"\"\n",
    "\n",
    "##############################\n",
    "## Build the Neural Network ##\n",
    "##############################\n",
    "\n",
    "# Remove previous weights, bias, inputs, etc..\n",
    "tf.reset_default_graph()\n",
    "\n",
    "# Inputs\n",
    "x = neural_net_image_input((32, 32, 3))\n",
    "y = neural_net_label_input(10)\n",
    "keep_prob = neural_net_keep_prob_input()\n",
    "\n",
    "# Model\n",
    "logits = conv_net(x, keep_prob)\n",
    "\n",
    "# Name logits Tensor, so that is can be loaded from disk after training\n",
    "logits = tf.identity(logits, name='logits')\n",
    "\n",
    "# Loss and Optimizer\n",
    "cost = tf.reduce_mean(tf.nn.softmax_cross_entropy_with_logits(logits=logits, labels=y))\n",
    "optimizer = tf.train.AdamOptimizer().minimize(cost)\n",
    "\n",
    "# Accuracy\n",
    "correct_pred = tf.equal(tf.argmax(logits, 1), tf.argmax(y, 1))\n",
    "accuracy = tf.reduce_mean(tf.cast(correct_pred, tf.float32), name='accuracy')\n",
    "\n",
    "tests.test_conv_net(conv_net)"
   ]
  },
  {
   "cell_type": "markdown",
   "metadata": {
    "deletable": true,
    "editable": true
   },
   "source": [
    "## Train the Neural Network\n",
    "### Single Optimization\n",
    "Implement the function `train_neural_network` to do a single optimization.  The optimization should use `optimizer` to optimize in `session` with a `feed_dict` of the following:\n",
    "* `x` for image input\n",
    "* `y` for labels\n",
    "* `keep_prob` for keep probability for dropout\n",
    "\n",
    "This function will be called for each batch, so `tf.global_variables_initializer()` has already been called.\n",
    "\n",
    "Note: Nothing needs to be returned. This function is only optimizing the neural network."
   ]
  },
  {
   "cell_type": "code",
   "execution_count": 42,
   "metadata": {
    "collapsed": false,
    "deletable": true,
    "editable": true
   },
   "outputs": [
    {
     "name": "stdout",
     "output_type": "stream",
     "text": [
      "Tests Passed\n"
     ]
    }
   ],
   "source": [
    "def train_neural_network(session, optimizer, keep_probability, feature_batch, label_batch):\n",
    "    \"\"\"\n",
    "    Optimize the session on a batch of images and labels\n",
    "    : session: Current TensorFlow session\n",
    "    : optimizer: TensorFlow optimizer function\n",
    "    : keep_probability: keep probability\n",
    "    : feature_batch: Batch of Numpy image data\n",
    "    : label_batch: Batch of Numpy label data\n",
    "    \"\"\"\n",
    "    session.run(optimizer, feed_dict={x: feature_batch, y: label_batch, keep_prob: keep_probability})\n",
    "\n",
    "\n",
    "\n",
    "\"\"\"\n",
    "DON'T MODIFY ANYTHING IN THIS CELL THAT IS BELOW THIS LINE\n",
    "\"\"\"\n",
    "tests.test_train_nn(train_neural_network)"
   ]
  },
  {
   "cell_type": "markdown",
   "metadata": {
    "deletable": true,
    "editable": true
   },
   "source": [
    "### Show Stats\n",
    "Implement the function `print_stats` to print loss and validation accuracy.  Use the global variables `valid_features` and `valid_labels` to calculate validation accuracy.  Use a keep probability of `1.0` to calculate the loss and validation accuracy."
   ]
  },
  {
   "cell_type": "code",
   "execution_count": 43,
   "metadata": {
    "collapsed": false,
    "deletable": true,
    "editable": true
   },
   "outputs": [],
   "source": [
    "def print_stats(session, feature_batch, label_batch, cost, accuracy):\n",
    "    \"\"\"\n",
    "    Print information about loss and validation accuracy\n",
    "    : session: Current TensorFlow session\n",
    "    : feature_batch: Batch of Numpy image data\n",
    "    : label_batch: Batch of Numpy label data\n",
    "    : cost: TensorFlow cost function\n",
    "    : accuracy: TensorFlow accuracy function\n",
    "    \"\"\"\n",
    "    \n",
    "    loss = session.run(cost, feed_dict = \n",
    "                   {x: feature_batch,y: label_batch, keep_prob: 1.0})\n",
    "    acc = session.run(accuracy,feed_dict = \n",
    "                  {x: valid_features, y: valid_labels, keep_prob: 1.0})\n",
    "    \n",
    "    print('cost:{}'.format(loss), \" \",'acc:{}'.format(acc))"
   ]
  },
  {
   "cell_type": "markdown",
   "metadata": {
    "deletable": true,
    "editable": true
   },
   "source": [
    "### Hyperparameters\n",
    "Tune the following parameters:\n",
    "* Set `epochs` to the number of iterations until the network stops learning or start overfitting\n",
    "* Set `batch_size` to the highest number that your machine has memory for.  Most people set them to common sizes of memory:\n",
    " * 64\n",
    " * 128\n",
    " * 256\n",
    " * ...\n",
    "* Set `keep_probability` to the probability of keeping a node using dropout"
   ]
  },
  {
   "cell_type": "code",
   "execution_count": 44,
   "metadata": {
    "collapsed": true,
    "deletable": true,
    "editable": true
   },
   "outputs": [],
   "source": [
    "# TODO: Tune Parameters\n",
    "epochs = 24\n",
    "batch_size = 128\n",
    "keep_probability = 0.5"
   ]
  },
  {
   "cell_type": "markdown",
   "metadata": {
    "deletable": true,
    "editable": true
   },
   "source": [
    "### Train on a Single CIFAR-10 Batch\n",
    "Instead of training the neural network on all the CIFAR-10 batches of data, let's use a single batch. This should save time while you iterate on the model to get a better accuracy.  Once the final validation accuracy is 50% or greater, run the model on all the data in the next section."
   ]
  },
  {
   "cell_type": "code",
   "execution_count": 45,
   "metadata": {
    "collapsed": false,
    "deletable": true,
    "editable": true
   },
   "outputs": [
    {
     "name": "stdout",
     "output_type": "stream",
     "text": [
      "Checking the Training on a Single Batch...\n",
      "Epoch  1, CIFAR-10 Batch 1:  cost:2.190518617630005   acc:0.342600017786026\n",
      "Epoch  2, CIFAR-10 Batch 1:  cost:1.9173259735107422   acc:0.4123999774456024\n",
      "Epoch  3, CIFAR-10 Batch 1:  cost:1.7169169187545776   acc:0.44419997930526733\n",
      "Epoch  4, CIFAR-10 Batch 1:  cost:1.5748810768127441   acc:0.46519994735717773\n",
      "Epoch  5, CIFAR-10 Batch 1:  cost:1.4607200622558594   acc:0.48079994320869446\n",
      "Epoch  6, CIFAR-10 Batch 1:  cost:1.3433400392532349   acc:0.4877999424934387\n",
      "Epoch  7, CIFAR-10 Batch 1:  cost:1.264035940170288   acc:0.498399943113327\n",
      "Epoch  8, CIFAR-10 Batch 1:  cost:1.1734676361083984   acc:0.5073999762535095\n",
      "Epoch  9, CIFAR-10 Batch 1:  cost:1.1048550605773926   acc:0.5077999830245972\n",
      "Epoch 10, CIFAR-10 Batch 1:  cost:1.027951955795288   acc:0.5101999640464783\n",
      "Epoch 11, CIFAR-10 Batch 1:  cost:0.9529025554656982   acc:0.5065999627113342\n",
      "Epoch 12, CIFAR-10 Batch 1:  cost:0.9060401320457458   acc:0.5098000168800354\n",
      "Epoch 13, CIFAR-10 Batch 1:  cost:0.844359815120697   acc:0.5127999186515808\n",
      "Epoch 14, CIFAR-10 Batch 1:  cost:0.7867124080657959   acc:0.5171999335289001\n",
      "Epoch 15, CIFAR-10 Batch 1:  cost:0.73899245262146   acc:0.5149999856948853\n",
      "Epoch 16, CIFAR-10 Batch 1:  cost:0.6793195009231567   acc:0.5227999687194824\n",
      "Epoch 17, CIFAR-10 Batch 1:  cost:0.6389564871788025   acc:0.5363999605178833\n",
      "Epoch 18, CIFAR-10 Batch 1:  cost:0.5800673365592957   acc:0.5341999530792236\n",
      "Epoch 19, CIFAR-10 Batch 1:  cost:0.5331294536590576   acc:0.5323998928070068\n",
      "Epoch 20, CIFAR-10 Batch 1:  cost:0.49192243814468384   acc:0.5313999652862549\n",
      "Epoch 21, CIFAR-10 Batch 1:  cost:0.46049538254737854   acc:0.5285999774932861\n",
      "Epoch 22, CIFAR-10 Batch 1:  cost:0.4239608645439148   acc:0.5229999423027039\n",
      "Epoch 23, CIFAR-10 Batch 1:  cost:0.39945706725120544   acc:0.5205999612808228\n",
      "Epoch 24, CIFAR-10 Batch 1:  cost:0.37715697288513184   acc:0.5169999599456787\n"
     ]
    }
   ],
   "source": [
    "\"\"\"\n",
    "DON'T MODIFY ANYTHING IN THIS CELL\n",
    "\"\"\"\n",
    "print('Checking the Training on a Single Batch...')\n",
    "with tf.Session() as sess:\n",
    "    # Initializing the variables\n",
    "    sess.run(tf.global_variables_initializer())\n",
    "    \n",
    "    # Training cycle\n",
    "    for epoch in range(epochs):\n",
    "        batch_i = 1\n",
    "        for batch_features, batch_labels in helper.load_preprocess_training_batch(batch_i, batch_size):\n",
    "            train_neural_network(sess, optimizer, keep_probability, batch_features, batch_labels)\n",
    "        print('Epoch {:>2}, CIFAR-10 Batch {}:  '.format(epoch + 1, batch_i), end='')\n",
    "        print_stats(sess, batch_features, batch_labels, cost, accuracy)"
   ]
  },
  {
   "cell_type": "markdown",
   "metadata": {
    "deletable": true,
    "editable": true
   },
   "source": [
    "### Fully Train the Model\n",
    "Now that you got a good accuracy with a single CIFAR-10 batch, try it with all five batches."
   ]
  },
  {
   "cell_type": "code",
   "execution_count": 46,
   "metadata": {
    "collapsed": false,
    "deletable": true,
    "editable": true
   },
   "outputs": [
    {
     "name": "stdout",
     "output_type": "stream",
     "text": [
      "Training...\n",
      "Epoch  1, CIFAR-10 Batch 1:  cost:2.2193949222564697   acc:0.2815999984741211\n",
      "Epoch  1, CIFAR-10 Batch 2:  cost:1.6767592430114746   acc:0.394599974155426\n",
      "Epoch  1, CIFAR-10 Batch 3:  cost:1.457327961921692   acc:0.4309999644756317\n",
      "Epoch  1, CIFAR-10 Batch 4:  cost:1.4669150114059448   acc:0.46299993991851807\n",
      "Epoch  1, CIFAR-10 Batch 5:  cost:1.5612239837646484   acc:0.4833999276161194\n",
      "Epoch  2, CIFAR-10 Batch 1:  cost:1.724745750427246   acc:0.47979995608329773\n",
      "Epoch  2, CIFAR-10 Batch 2:  cost:1.3821492195129395   acc:0.4917999505996704\n",
      "Epoch  2, CIFAR-10 Batch 3:  cost:1.2024669647216797   acc:0.5047999620437622\n",
      "Epoch  2, CIFAR-10 Batch 4:  cost:1.2178997993469238   acc:0.5139999389648438\n",
      "Epoch  2, CIFAR-10 Batch 5:  cost:1.3512134552001953   acc:0.5313999652862549\n",
      "Epoch  3, CIFAR-10 Batch 1:  cost:1.5467206239700317   acc:0.5303999185562134\n",
      "Epoch  3, CIFAR-10 Batch 2:  cost:1.3038901090621948   acc:0.5397999286651611\n",
      "Epoch  3, CIFAR-10 Batch 3:  cost:1.0347621440887451   acc:0.5401999354362488\n",
      "Epoch  3, CIFAR-10 Batch 4:  cost:1.058936357498169   acc:0.5523999333381653\n",
      "Epoch  3, CIFAR-10 Batch 5:  cost:1.1737134456634521   acc:0.5621999502182007\n",
      "Epoch  4, CIFAR-10 Batch 1:  cost:1.4138998985290527   acc:0.5637999176979065\n",
      "Epoch  4, CIFAR-10 Batch 2:  cost:1.1815624237060547   acc:0.5629999041557312\n",
      "Epoch  4, CIFAR-10 Batch 3:  cost:0.9337552785873413   acc:0.5701999068260193\n",
      "Epoch  4, CIFAR-10 Batch 4:  cost:0.9722654819488525   acc:0.5791999101638794\n",
      "Epoch  4, CIFAR-10 Batch 5:  cost:1.0146507024765015   acc:0.582599937915802\n",
      "Epoch  5, CIFAR-10 Batch 1:  cost:1.240312933921814   acc:0.5737999081611633\n",
      "Epoch  5, CIFAR-10 Batch 2:  cost:1.066336989402771   acc:0.5657999515533447\n",
      "Epoch  5, CIFAR-10 Batch 3:  cost:0.8576093316078186   acc:0.5785999298095703\n",
      "Epoch  5, CIFAR-10 Batch 4:  cost:0.8968490958213806   acc:0.5967999696731567\n",
      "Epoch  5, CIFAR-10 Batch 5:  cost:0.8675400018692017   acc:0.5961998701095581\n",
      "Epoch  6, CIFAR-10 Batch 1:  cost:1.112527847290039   acc:0.5843998789787292\n",
      "Epoch  6, CIFAR-10 Batch 2:  cost:0.9544869661331177   acc:0.5725998878479004\n",
      "Epoch  6, CIFAR-10 Batch 3:  cost:0.7539076209068298   acc:0.5879999399185181\n",
      "Epoch  6, CIFAR-10 Batch 4:  cost:0.8122975826263428   acc:0.605199933052063\n",
      "Epoch  6, CIFAR-10 Batch 5:  cost:0.7632660865783691   acc:0.6005999445915222\n",
      "Epoch  7, CIFAR-10 Batch 1:  cost:1.0268092155456543   acc:0.591999888420105\n",
      "Epoch  7, CIFAR-10 Batch 2:  cost:0.8705357909202576   acc:0.582599937915802\n",
      "Epoch  7, CIFAR-10 Batch 3:  cost:0.6718090772628784   acc:0.5957999229431152\n",
      "Epoch  7, CIFAR-10 Batch 4:  cost:0.7530406713485718   acc:0.612799882888794\n",
      "Epoch  7, CIFAR-10 Batch 5:  cost:0.7053363919258118   acc:0.5987998843193054\n",
      "Epoch  8, CIFAR-10 Batch 1:  cost:0.9417284727096558   acc:0.5987999439239502\n",
      "Epoch  8, CIFAR-10 Batch 2:  cost:0.7767785787582397   acc:0.5935999155044556\n",
      "Epoch  8, CIFAR-10 Batch 3:  cost:0.6082502007484436   acc:0.5995999574661255\n",
      "Epoch  8, CIFAR-10 Batch 4:  cost:0.7013668417930603   acc:0.6161998510360718\n",
      "Epoch  8, CIFAR-10 Batch 5:  cost:0.6553292274475098   acc:0.6019999384880066\n",
      "Epoch  9, CIFAR-10 Batch 1:  cost:0.8733116388320923   acc:0.6073999404907227\n",
      "Epoch  9, CIFAR-10 Batch 2:  cost:0.7236624360084534   acc:0.606799840927124\n",
      "Epoch  9, CIFAR-10 Batch 3:  cost:0.5366104245185852   acc:0.5995999574661255\n",
      "Epoch  9, CIFAR-10 Batch 4:  cost:0.6536659002304077   acc:0.6207998991012573\n",
      "Epoch  9, CIFAR-10 Batch 5:  cost:0.6038592457771301   acc:0.5991998910903931\n",
      "Epoch 10, CIFAR-10 Batch 1:  cost:0.8159362077713013   acc:0.6067999005317688\n",
      "Epoch 10, CIFAR-10 Batch 2:  cost:0.6774994730949402   acc:0.6065999269485474\n",
      "Epoch 10, CIFAR-10 Batch 3:  cost:0.4775351881980896   acc:0.6029999256134033\n",
      "Epoch 10, CIFAR-10 Batch 4:  cost:0.6283127069473267   acc:0.614599883556366\n",
      "Epoch 10, CIFAR-10 Batch 5:  cost:0.5598449110984802   acc:0.6025999188423157\n",
      "Epoch 11, CIFAR-10 Batch 1:  cost:0.7634570598602295   acc:0.6073999404907227\n",
      "Epoch 11, CIFAR-10 Batch 2:  cost:0.6414145231246948   acc:0.5999999642372131\n",
      "Epoch 11, CIFAR-10 Batch 3:  cost:0.45657193660736084   acc:0.6133999228477478\n",
      "Epoch 11, CIFAR-10 Batch 4:  cost:0.594347357749939   acc:0.6101999282836914\n",
      "Epoch 11, CIFAR-10 Batch 5:  cost:0.494913250207901   acc:0.6107999086380005\n",
      "Epoch 12, CIFAR-10 Batch 1:  cost:0.7149801254272461   acc:0.6121999025344849\n",
      "Epoch 12, CIFAR-10 Batch 2:  cost:0.6138777136802673   acc:0.5851998925209045\n",
      "Epoch 12, CIFAR-10 Batch 3:  cost:0.4002169966697693   acc:0.6187998652458191\n",
      "Epoch 12, CIFAR-10 Batch 4:  cost:0.5611991882324219   acc:0.6077999472618103\n",
      "Epoch 12, CIFAR-10 Batch 5:  cost:0.4189271628856659   acc:0.6195999383926392\n",
      "Epoch 13, CIFAR-10 Batch 1:  cost:0.7088086605072021   acc:0.6227998733520508\n",
      "Epoch 13, CIFAR-10 Batch 2:  cost:0.5019235610961914   acc:0.6083999276161194\n",
      "Epoch 13, CIFAR-10 Batch 3:  cost:0.36172351241111755   acc:0.621799886226654\n",
      "Epoch 13, CIFAR-10 Batch 4:  cost:0.5402122735977173   acc:0.6059998869895935\n",
      "Epoch 13, CIFAR-10 Batch 5:  cost:0.3844061493873596   acc:0.6235998868942261\n",
      "Epoch 14, CIFAR-10 Batch 1:  cost:0.6462197303771973   acc:0.6251999139785767\n",
      "Epoch 14, CIFAR-10 Batch 2:  cost:0.45116788148880005   acc:0.6119998693466187\n",
      "Epoch 14, CIFAR-10 Batch 3:  cost:0.33500969409942627   acc:0.6225998997688293\n",
      "Epoch 14, CIFAR-10 Batch 4:  cost:0.5122950077056885   acc:0.606999933719635\n",
      "Epoch 14, CIFAR-10 Batch 5:  cost:0.38914501667022705   acc:0.6109998822212219\n",
      "Epoch 15, CIFAR-10 Batch 1:  cost:0.5882408022880554   acc:0.6291999220848083\n",
      "Epoch 15, CIFAR-10 Batch 2:  cost:0.4078329801559448   acc:0.6159999370574951\n",
      "Epoch 15, CIFAR-10 Batch 3:  cost:0.3099207580089569   acc:0.6209999322891235\n",
      "Epoch 15, CIFAR-10 Batch 4:  cost:0.4684038758277893   acc:0.6107999086380005\n",
      "Epoch 15, CIFAR-10 Batch 5:  cost:0.3583289384841919   acc:0.6133999824523926\n",
      "Epoch 16, CIFAR-10 Batch 1:  cost:0.5525665879249573   acc:0.6287999153137207\n",
      "Epoch 16, CIFAR-10 Batch 2:  cost:0.37247708439826965   acc:0.6205999255180359\n",
      "Epoch 16, CIFAR-10 Batch 3:  cost:0.2815948724746704   acc:0.6215999722480774\n",
      "Epoch 16, CIFAR-10 Batch 4:  cost:0.43905872106552124   acc:0.6099998354911804\n",
      "Epoch 16, CIFAR-10 Batch 5:  cost:0.32671985030174255   acc:0.6131998896598816\n",
      "Epoch 17, CIFAR-10 Batch 1:  cost:0.5188488364219666   acc:0.6301998496055603\n",
      "Epoch 17, CIFAR-10 Batch 2:  cost:0.3509664237499237   acc:0.6213998794555664\n",
      "Epoch 17, CIFAR-10 Batch 3:  cost:0.25298255681991577   acc:0.6243999004364014\n",
      "Epoch 17, CIFAR-10 Batch 4:  cost:0.41084012389183044   acc:0.6095999479293823\n",
      "Epoch 17, CIFAR-10 Batch 5:  cost:0.29271823167800903   acc:0.6177999377250671\n",
      "Epoch 18, CIFAR-10 Batch 1:  cost:0.4792155921459198   acc:0.6307998895645142\n",
      "Epoch 18, CIFAR-10 Batch 2:  cost:0.33690959215164185   acc:0.619999885559082\n",
      "Epoch 18, CIFAR-10 Batch 3:  cost:0.23299740254878998   acc:0.6223999261856079\n",
      "Epoch 18, CIFAR-10 Batch 4:  cost:0.3751225173473358   acc:0.6101999282836914\n",
      "Epoch 18, CIFAR-10 Batch 5:  cost:0.2776622176170349   acc:0.6189998984336853\n",
      "Epoch 19, CIFAR-10 Batch 1:  cost:0.46044960618019104   acc:0.6307998895645142\n",
      "Epoch 19, CIFAR-10 Batch 2:  cost:0.30181625485420227   acc:0.6207998991012573\n",
      "Epoch 19, CIFAR-10 Batch 3:  cost:0.20809799432754517   acc:0.6191998720169067\n",
      "Epoch 19, CIFAR-10 Batch 4:  cost:0.35076412558555603   acc:0.6077998876571655\n",
      "Epoch 19, CIFAR-10 Batch 5:  cost:0.25412610173225403   acc:0.614599883556366\n",
      "Epoch 20, CIFAR-10 Batch 1:  cost:0.4134913682937622   acc:0.6309999227523804\n",
      "Epoch 20, CIFAR-10 Batch 2:  cost:0.2853056788444519   acc:0.6199999451637268\n",
      "Epoch 20, CIFAR-10 Batch 3:  cost:0.19741135835647583   acc:0.6195998787879944\n",
      "Epoch 20, CIFAR-10 Batch 4:  cost:0.36426886916160583   acc:0.6057999134063721\n",
      "Epoch 20, CIFAR-10 Batch 5:  cost:0.24758073687553406   acc:0.6169999241828918\n",
      "Epoch 21, CIFAR-10 Batch 1:  cost:0.38823041319847107   acc:0.6275999546051025\n",
      "Epoch 21, CIFAR-10 Batch 2:  cost:0.2885484993457794   acc:0.6139999032020569\n",
      "Epoch 21, CIFAR-10 Batch 3:  cost:0.18764393031597137   acc:0.6213998794555664\n",
      "Epoch 21, CIFAR-10 Batch 4:  cost:0.35030463337898254   acc:0.6067999005317688\n",
      "Epoch 21, CIFAR-10 Batch 5:  cost:0.2539328336715698   acc:0.6023999452590942\n",
      "Epoch 22, CIFAR-10 Batch 1:  cost:0.3673498332500458   acc:0.6297999024391174\n",
      "Epoch 22, CIFAR-10 Batch 2:  cost:0.28084951639175415   acc:0.612799882888794\n",
      "Epoch 22, CIFAR-10 Batch 3:  cost:0.19194048643112183   acc:0.6173999309539795\n",
      "Epoch 22, CIFAR-10 Batch 4:  cost:0.3610186278820038   acc:0.6061999201774597\n",
      "Epoch 22, CIFAR-10 Batch 5:  cost:0.24213868379592896   acc:0.6027998924255371\n",
      "Epoch 23, CIFAR-10 Batch 1:  cost:0.30552923679351807   acc:0.622999906539917\n",
      "Epoch 23, CIFAR-10 Batch 2:  cost:0.27664652466773987   acc:0.6165999174118042\n",
      "Epoch 23, CIFAR-10 Batch 3:  cost:0.19885994493961334   acc:0.6129999160766602\n",
      "Epoch 23, CIFAR-10 Batch 4:  cost:0.35591477155685425   acc:0.6009998917579651\n",
      "Epoch 23, CIFAR-10 Batch 5:  cost:0.22608119249343872   acc:0.6051998734474182\n",
      "Epoch 24, CIFAR-10 Batch 1:  cost:0.3348485231399536   acc:0.6125999093055725\n",
      "Epoch 24, CIFAR-10 Batch 2:  cost:0.2500511407852173   acc:0.621199905872345\n",
      "Epoch 24, CIFAR-10 Batch 3:  cost:0.16794626414775848   acc:0.6147999167442322\n",
      "Epoch 24, CIFAR-10 Batch 4:  cost:0.4109545052051544   acc:0.5827999114990234\n",
      "Epoch 24, CIFAR-10 Batch 5:  cost:0.21175870299339294   acc:0.6067999005317688\n"
     ]
    }
   ],
   "source": [
    "\"\"\"\n",
    "DON'T MODIFY ANYTHING IN THIS CELL\n",
    "\"\"\"\n",
    "save_model_path = './image_classification'\n",
    "\n",
    "print('Training...')\n",
    "with tf.Session() as sess:\n",
    "    # Initializing the variables\n",
    "    sess.run(tf.global_variables_initializer())\n",
    "    \n",
    "    # Training cycle\n",
    "    for epoch in range(epochs):\n",
    "        # Loop over all batches\n",
    "        n_batches = 5\n",
    "        for batch_i in range(1, n_batches + 1):\n",
    "            for batch_features, batch_labels in helper.load_preprocess_training_batch(batch_i, batch_size):\n",
    "                train_neural_network(sess, optimizer, keep_probability, batch_features, batch_labels)\n",
    "            print('Epoch {:>2}, CIFAR-10 Batch {}:  '.format(epoch + 1, batch_i), end='')\n",
    "            print_stats(sess, batch_features, batch_labels, cost, accuracy)\n",
    "            \n",
    "    # Save Model\n",
    "    saver = tf.train.Saver()\n",
    "    save_path = saver.save(sess, save_model_path)"
   ]
  },
  {
   "cell_type": "markdown",
   "metadata": {
    "deletable": true,
    "editable": true
   },
   "source": [
    "# Checkpoint\n",
    "The model has been saved to disk.\n",
    "## Test Model\n",
    "Test your model against the test dataset.  This will be your final accuracy. You should have an accuracy greater than 50%. If you don't, keep tweaking the model architecture and parameters."
   ]
  },
  {
   "cell_type": "code",
   "execution_count": 47,
   "metadata": {
    "collapsed": false,
    "deletable": true,
    "editable": true,
    "scrolled": true
   },
   "outputs": [
    {
     "name": "stdout",
     "output_type": "stream",
     "text": [
      "Testing Accuracy: 0.6077927215189873\n",
      "\n"
     ]
    },
    {
     "data": {
      "image/png": "[encoded data removed]",
      "text/plain": [
       "<matplotlib.figure.Figure at 0x7fc78332d320>"
      ]
     },
     "metadata": {
      "image/png": {
       "height": 319,
       "width": 355
      }
     },
     "output_type": "display_data"
    }
   ],
   "source": [
    "\"\"\"\n",
    "DON'T MODIFY ANYTHING IN THIS CELL\n",
    "\"\"\"\n",
    "%matplotlib inline\n",
    "%config InlineBackend.figure_format = 'retina'\n",
    "\n",
    "import tensorflow as tf\n",
    "import pickle\n",
    "import helper\n",
    "import random\n",
    "\n",
    "# Set batch size if not already set\n",
    "try:\n",
    "    if batch_size:\n",
    "        pass\n",
    "except NameError:\n",
    "    batch_size = 64\n",
    "\n",
    "save_model_path = './image_classification'\n",
    "n_samples = 4\n",
    "top_n_predictions = 3\n",
    "\n",
    "def test_model():\n",
    "    \"\"\"\n",
    "    Test the saved model against the test dataset\n",
    "    \"\"\"\n",
    "\n",
    "    test_features, test_labels = pickle.load(open('preprocess_training.p', mode='rb'))\n",
    "    loaded_graph = tf.Graph()\n",
    "\n",
    "    with tf.Session(graph=loaded_graph) as sess:\n",
    "        # Load model\n",
    "        loader = tf.train.import_meta_graph(save_model_path + '.meta')\n",
    "        loader.restore(sess, save_model_path)\n",
    "\n",
    "        # Get Tensors from loaded model\n",
    "        loaded_x = loaded_graph.get_tensor_by_name('x:0')\n",
    "        loaded_y = loaded_graph.get_tensor_by_name('y:0')\n",
    "        loaded_keep_prob = loaded_graph.get_tensor_by_name('keep_prob:0')\n",
    "        loaded_logits = loaded_graph.get_tensor_by_name('logits:0')\n",
    "        loaded_acc = loaded_graph.get_tensor_by_name('accuracy:0')\n",
    "        \n",
    "        # Get accuracy in batches for memory limitations\n",
    "        test_batch_acc_total = 0\n",
    "        test_batch_count = 0\n",
    "        \n",
    "        for train_feature_batch, train_label_batch in helper.batch_features_labels(test_features, test_labels, batch_size):\n",
    "            test_batch_acc_total += sess.run(\n",
    "                loaded_acc,\n",
    "                feed_dict={loaded_x: train_feature_batch, loaded_y: train_label_batch, loaded_keep_prob: 1.0})\n",
    "            test_batch_count += 1\n",
    "\n",
    "        print('Testing Accuracy: {}\\n'.format(test_batch_acc_total/test_batch_count))\n",
    "\n",
    "        # Print Random Samples\n",
    "        random_test_features, random_test_labels = tuple(zip(*random.sample(list(zip(test_features, test_labels)), n_samples)))\n",
    "        random_test_predictions = sess.run(\n",
    "            tf.nn.top_k(tf.nn.softmax(loaded_logits), top_n_predictions),\n",
    "            feed_dict={loaded_x: random_test_features, loaded_y: random_test_labels, loaded_keep_prob: 1.0})\n",
    "        helper.display_image_predictions(random_test_features, random_test_labels, random_test_predictions)\n",
    "\n",
    "\n",
    "test_model()"
   ]
  },
  {
   "cell_type": "markdown",
   "metadata": {
    "deletable": true,
    "editable": true
   },
   "source": [
    "## Why 50-80% Accuracy?\n",
    "You might be wondering why you can't get an accuracy any higher. First things first, 50% isn't bad for a simple CNN.  Pure guessing would get you 10% accuracy. However, you might notice people are getting scores [well above 80%](http://rodrigob.github.io/are_we_there_yet/build/classification_datasets_results.html#43494641522d3130).  That's because we haven't taught you all there is to know about neural networks. We still need to cover a few more techniques.\n",
    "## Submitting This Project\n",
    "When submitting this project, make sure to run all the cells before saving the notebook.  Save the notebook file as \"dlnd_image_classification.ipynb\" and save it as a HTML file under \"File\" -> \"Download as\".  Include the \"helper.py\" and \"problem_unittests.py\" files in your submission."
   ]
  }
 ],
 "metadata": {
  "kernelspec": {
   "display_name": "Python 3",
   "language": "python",
   "name": "python3"
  },
  "language_info": {
   "codemirror_mode": {
    "name": "ipython",
    "version": 3
   },
   "file_extension": ".py",
   "mimetype": "text/x-python",
   "name": "python",
   "nbconvert_exporter": "python",
   "pygments_lexer": "ipython3",
   "version": "3.5.2"
  },
  "widgets": {
   "state": {},
   "version": "1.1.2"
  }
 },
 "nbformat": 4,
 "nbformat_minor": 0
}
