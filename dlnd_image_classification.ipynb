{
 "cells": [
  {
   "cell_type": "markdown",
   "metadata": {
    "collapsed": true,
    "deletable": true,
    "editable": true
   },
   "source": [
    "# Image Classification\n",
    "In this project, you'll classify images from the [CIFAR-10 dataset](https://www.cs.toronto.edu/~kriz/cifar.html).  The dataset consists of airplanes, dogs, cats, and other objects. You'll preprocess the images, then train a convolutional neural network on all the samples. The images need to be normalized and the labels need to be one-hot encoded.  You'll get to apply what you learned and build a convolutional, max pooling, dropout, and fully connected layers.  At the end, you'll get to see your neural network's predictions on the sample images.\n",
    "## Get the Data\n",
    "Run the following cell to download the [CIFAR-10 dataset for python](https://www.cs.toronto.edu/~kriz/cifar-10-python.tar.gz)."
   ]
  },
  {
   "cell_type": "code",
   "execution_count": 48,
   "metadata": {
    "collapsed": false,
    "deletable": true,
    "editable": true
   },
   "outputs": [
    {
     "name": "stdout",
     "output_type": "stream",
     "text": [
      "All files found!\n"
     ]
    }
   ],
   "source": [
    "\"\"\"\n",
    "DON'T MODIFY ANYTHING IN THIS CELL THAT IS BELOW THIS LINE\n",
    "\"\"\"\n",
    "from urllib.request import urlretrieve\n",
    "from os.path import isfile, isdir\n",
    "from tqdm import tqdm\n",
    "import problem_unittests as tests\n",
    "import tarfile\n",
    "\n",
    "cifar10_dataset_folder_path = 'cifar-10-batches-py'\n",
    "\n",
    "class DLProgress(tqdm):\n",
    "    last_block = 0\n",
    "\n",
    "    def hook(self, block_num=1, block_size=1, total_size=None):\n",
    "        self.total = total_size\n",
    "        self.update((block_num - self.last_block) * block_size)\n",
    "        self.last_block = block_num\n",
    "\n",
    "if not isfile('cifar-10-python.tar.gz'):\n",
    "    with DLProgress(unit='B', unit_scale=True, miniters=1, desc='CIFAR-10 Dataset') as pbar:\n",
    "        urlretrieve(\n",
    "            'https://www.cs.toronto.edu/~kriz/cifar-10-python.tar.gz',\n",
    "            'cifar-10-python.tar.gz',\n",
    "            pbar.hook)\n",
    "\n",
    "if not isdir(cifar10_dataset_folder_path):\n",
    "    with tarfile.open('cifar-10-python.tar.gz') as tar:\n",
    "        tar.extractall()\n",
    "        tar.close()\n",
    "\n",
    "\n",
    "tests.test_folder_path(cifar10_dataset_folder_path)"
   ]
  },
  {
   "cell_type": "markdown",
   "metadata": {
    "deletable": true,
    "editable": true
   },
   "source": [
    "## Explore the Data\n",
    "The dataset is broken into batches to prevent your machine from running out of memory.  The CIFAR-10 dataset consists of 5 batches, named `data_batch_1`, `data_batch_2`, etc.. Each batch contains the labels and images that are one of the following:\n",
    "* airplane\n",
    "* automobile\n",
    "* bird\n",
    "* cat\n",
    "* deer\n",
    "* dog\n",
    "* frog\n",
    "* horse\n",
    "* ship\n",
    "* truck\n",
    "\n",
    "Understanding a dataset is part of making predictions on the data.  Play around with the code cell below by changing the `batch_id` and `sample_id`. The `batch_id` is the id for a batch (1-5). The `sample_id` is the id for a image and label pair in the batch.\n",
    "\n",
    "Ask yourself \"What are all possible labels?\", \"What is the range of values for the image data?\", \"Are the labels in order or random?\".  Answers to questions like these will help you preprocess the data and end up with better predictions."
   ]
  },
  {
   "cell_type": "code",
   "execution_count": 49,
   "metadata": {
    "collapsed": false,
    "deletable": true,
    "editable": true
   },
   "outputs": [
    {
     "name": "stdout",
     "output_type": "stream",
     "text": [
      "\n",
      "Stats of batch 1:\n",
      "Samples: 10000\n",
      "Label Counts: {0: 1005, 1: 974, 2: 1032, 3: 1016, 4: 999, 5: 937, 6: 1030, 7: 1001, 8: 1025, 9: 981}\n",
      "First 20 Labels: [6, 9, 9, 4, 1, 1, 2, 7, 8, 3, 4, 7, 7, 2, 9, 9, 9, 3, 2, 6]\n",
      "\n",
      "Example of Image 5:\n",
      "Image - Min Value: 0 Max Value: 252\n",
      "Image - Shape: (32, 32, 3)\n",
      "Label - Label Id: 1 Name: automobile\n"
     ]
    },
    {
     "data": {
      "image/png": "[encoded data removed]",
      "text/plain": [
       "<matplotlib.figure.Figure at 0x7fc7cd588550>"
      ]
     },
     "metadata": {
      "image/png": {
       "height": 250,
       "width": 253
      }
     },
     "output_type": "display_data"
    }
   ],
   "source": [
    "%matplotlib inline\n",
    "%config InlineBackend.figure_format = 'retina'\n",
    "\n",
    "import helper\n",
    "import numpy as np\n",
    "\n",
    "# Explore the dataset\n",
    "batch_id = 1\n",
    "sample_id = 5\n",
    "helper.display_stats(cifar10_dataset_folder_path, batch_id, sample_id)"
   ]
  },
  {
   "cell_type": "markdown",
   "metadata": {
    "deletable": true,
    "editable": true
   },
   "source": [
    "## Implement Preprocess Functions\n",
    "### Normalize\n",
    "In the cell below, implement the `normalize` function to take in image data, `x`, and return it as a normalized Numpy array. The values should be in the range of 0 to 1, inclusive.  The return object should be the same shape as `x`."
   ]
  },
  {
   "cell_type": "code",
   "execution_count": 50,
   "metadata": {
    "collapsed": false,
    "deletable": true,
    "editable": true
   },
   "outputs": [
    {
     "name": "stdout",
     "output_type": "stream",
     "text": [
      "Tests Passed\n"
     ]
    }
   ],
   "source": [
    "def normalize(x):\n",
    "    \"\"\"\n",
    "    Normalize a list of sample image data in the range of 0 to 1\n",
    "    : x: List of image data.  The image shape is (32, 32, 3)\n",
    "    : return: Numpy array of normalize data\n",
    "    \"\"\"\n",
    "    return np.array(x/255)\n",
    "\n",
    "\n",
    "\"\"\"\n",
    "DON'T MODIFY ANYTHING IN THIS CELL THAT IS BELOW THIS LINE\n",
    "\"\"\"\n",
    "tests.test_normalize(normalize)"
   ]
  },
  {
   "cell_type": "markdown",
   "metadata": {
    "deletable": true,
    "editable": true
   },
   "source": [
    "### One-hot encode\n",
    "Just like the previous code cell, you'll be implementing a function for preprocessing.  This time, you'll implement the `one_hot_encode` function. The input, `x`, are a list of labels.  Implement the function to return the list of labels as One-Hot encoded Numpy array.  The possible values for labels are 0 to 9. The one-hot encoding function should return the same encoding for each value between each call to `one_hot_encode`.  Make sure to save the map of encodings outside the function.\n",
    "\n",
    "Hint: Don't reinvent the wheel."
   ]
  },
  {
   "cell_type": "code",
   "execution_count": 51,
   "metadata": {
    "collapsed": false,
    "deletable": true,
    "editable": true
   },
   "outputs": [
    {
     "name": "stdout",
     "output_type": "stream",
     "text": [
      "Tests Passed\n"
     ]
    }
   ],
   "source": [
    "def one_hot_encode(x):\n",
    "    \"\"\"\n",
    "    One hot encode a list of sample labels. Return a one-hot encoded vector for each label.\n",
    "    : x: List of sample Labels\n",
    "    : return: Numpy array of one-hot encoded labels\n",
    "    \"\"\"\n",
    "    one_hot = np.zeros(shape=(len(x), 10))\n",
    "    for i in range(len(x)):\n",
    "        for j in range(10):\n",
    "            one_hot[i][j] = (j == x[i])\n",
    "    return one_hot\n",
    "\n",
    "\n",
    "\"\"\"\n",
    "DON'T MODIFY ANYTHING IN THIS CELL THAT IS BELOW THIS LINE\n",
    "\"\"\"\n",
    "tests.test_one_hot_encode(one_hot_encode)"
   ]
  },
  {
   "cell_type": "markdown",
   "metadata": {
    "deletable": true,
    "editable": true
   },
   "source": [
    "### Randomize Data\n",
    "As you saw from exploring the data above, the order of the samples are randomized.  It doesn't hurt to randomize it again, but you don't need to for this dataset."
   ]
  },
  {
   "cell_type": "markdown",
   "metadata": {
    "deletable": true,
    "editable": true
   },
   "source": [
    "## Preprocess all the data and save it\n",
    "Running the code cell below will preprocess all the CIFAR-10 data and save it to file. The code below also uses 10% of the training data for validation."
   ]
  },
  {
   "cell_type": "code",
   "execution_count": 52,
   "metadata": {
    "collapsed": false,
    "deletable": true,
    "editable": true
   },
   "outputs": [],
   "source": [
    "\"\"\"\n",
    "DON'T MODIFY ANYTHING IN THIS CELL\n",
    "\"\"\"\n",
    "# Preprocess Training, Validation, and Testing Data\n",
    "helper.preprocess_and_save_data(cifar10_dataset_folder_path, normalize, one_hot_encode)"
   ]
  },
  {
   "cell_type": "markdown",
   "metadata": {
    "deletable": true,
    "editable": true
   },
   "source": [
    "# Check Point\n",
    "This is your first checkpoint.  If you ever decide to come back to this notebook or have to restart the notebook, you can start from here.  The preprocessed data has been saved to disk."
   ]
  },
  {
   "cell_type": "code",
   "execution_count": 53,
   "metadata": {
    "collapsed": true,
    "deletable": true,
    "editable": true
   },
   "outputs": [],
   "source": [
    "\"\"\"\n",
    "DON'T MODIFY ANYTHING IN THIS CELL\n",
    "\"\"\"\n",
    "import pickle\n",
    "import problem_unittests as tests\n",
    "import helper\n",
    "\n",
    "# Load the Preprocessed Validation data\n",
    "valid_features, valid_labels = pickle.load(open('preprocess_validation.p', mode='rb'))"
   ]
  },
  {
   "cell_type": "markdown",
   "metadata": {
    "deletable": true,
    "editable": true
   },
   "source": [
    "## Build the network\n",
    "For the neural network, you'll build each layer into a function.  Most of the code you've seen has been outside of functions. To test your code more thoroughly, we require that you put each layer in a function.  This allows us to give you better feedback and test for simple mistakes using our unittests before you submit your project.\n",
    "\n",
    ">**Note:** If you're finding it hard to dedicate enough time for this course each week, we've provided a small shortcut to this part of the project. In the next couple of problems, you'll have the option to use classes from the [TensorFlow Layers](https://www.tensorflow.org/api_docs/python/tf/layers) or [TensorFlow Layers (contrib)](https://www.tensorflow.org/api_guides/python/contrib.layers) packages to build each layer, except the layers you build in the \"Convolutional and Max Pooling Layer\" section.  TF Layers is similar to Keras's and TFLearn's abstraction to layers, so it's easy to pickup.\n",
    "\n",
    ">However, if you would like to get the most out of this course, try to solve all the problems _without_ using anything from the TF Layers packages. You **can** still use classes from other packages that happen to have the same name as ones you find in TF Layers! For example, instead of using the TF Layers version of the `conv2d` class, [tf.layers.conv2d](https://www.tensorflow.org/api_docs/python/tf/layers/conv2d), you would want to use the TF Neural Network version of `conv2d`, [tf.nn.conv2d](https://www.tensorflow.org/api_docs/python/tf/nn/conv2d). \n",
    "\n",
    "Let's begin!\n",
    "\n",
    "### Input\n",
    "The neural network needs to read the image data, one-hot encoded labels, and dropout keep probability. Implement the following functions\n",
    "* Implement `neural_net_image_input`\n",
    " * Return a [TF Placeholder](https://www.tensorflow.org/api_docs/python/tf/placeholder)\n",
    " * Set the shape using `image_shape` with batch size set to `None`.\n",
    " * Name the TensorFlow placeholder \"x\" using the TensorFlow `name` parameter in the [TF Placeholder](https://www.tensorflow.org/api_docs/python/tf/placeholder).\n",
    "* Implement `neural_net_label_input`\n",
    " * Return a [TF Placeholder](https://www.tensorflow.org/api_docs/python/tf/placeholder)\n",
    " * Set the shape using `n_classes` with batch size set to `None`.\n",
    " * Name the TensorFlow placeholder \"y\" using the TensorFlow `name` parameter in the [TF Placeholder](https://www.tensorflow.org/api_docs/python/tf/placeholder).\n",
    "* Implement `neural_net_keep_prob_input`\n",
    " * Return a [TF Placeholder](https://www.tensorflow.org/api_docs/python/tf/placeholder) for dropout keep probability.\n",
    " * Name the TensorFlow placeholder \"keep_prob\" using the TensorFlow `name` parameter in the [TF Placeholder](https://www.tensorflow.org/api_docs/python/tf/placeholder).\n",
    "\n",
    "These names will be used at the end of the project to load your saved model.\n",
    "\n",
    "Note: `None` for shapes in TensorFlow allow for a dynamic size."
   ]
  },
  {
   "cell_type": "code",
   "execution_count": 54,
   "metadata": {
    "collapsed": false,
    "deletable": true,
    "editable": true
   },
   "outputs": [
    {
     "name": "stdout",
     "output_type": "stream",
     "text": [
      "Image Input Tests Passed.\n",
      "Label Input Tests Passed.\n",
      "Keep Prob Tests Passed.\n"
     ]
    }
   ],
   "source": [
    "import tensorflow as tf\n",
    "\n",
    "def neural_net_image_input(image_shape):\n",
    "    \"\"\"\n",
    "    Return a Tensor for a batch of image input\n",
    "    : image_shape: Shape of the images\n",
    "    : return: Tensor for image input.\n",
    "    \"\"\"\n",
    "    return tf.placeholder(tf.float32, shape=[None, image_shape[0], image_shape[1], image_shape[2]], name='x')\n",
    "\n",
    "\n",
    "def neural_net_label_input(n_classes):\n",
    "    \"\"\"\n",
    "    Return a Tensor for a batch of label input\n",
    "    : n_classes: Number of classes\n",
    "    : return: Tensor for label input.\n",
    "    \"\"\"\n",
    "    return tf.placeholder(tf.float32, shape=[None, n_classes], name='y')\n",
    "\n",
    "\n",
    "def neural_net_keep_prob_input():\n",
    "    \"\"\"\n",
    "    Return a Tensor for keep probability\n",
    "    : return: Tensor for keep probability.\n",
    "    \"\"\"\n",
    "    return tf.placeholder(tf.float32, name='keep_prob')\n",
    "\n",
    "\n",
    "\n",
    "\"\"\"\n",
    "DON'T MODIFY ANYTHING IN THIS CELL THAT IS BELOW THIS LINE\n",
    "\"\"\"\n",
    "tf.reset_default_graph()\n",
    "tests.test_nn_image_inputs(neural_net_image_input)\n",
    "tests.test_nn_label_inputs(neural_net_label_input)\n",
    "tests.test_nn_keep_prob_inputs(neural_net_keep_prob_input)"
   ]
  },
  {
   "cell_type": "markdown",
   "metadata": {
    "deletable": true,
    "editable": true
   },
   "source": [
    "### Convolution and Max Pooling Layer\n",
    "Convolution layers have a lot of success with images. For this code cell, you should implement the function `conv2d_maxpool` to apply convolution then max pooling:\n",
    "* Create the weight and bias using `conv_ksize`, `conv_num_outputs` and the shape of `x_tensor`.\n",
    "* Apply a convolution to `x_tensor` using weight and `conv_strides`.\n",
    " * We recommend you use same padding, but you're welcome to use any padding.\n",
    "* Add bias\n",
    "* Add a nonlinear activation to the convolution.\n",
    "* Apply Max Pooling using `pool_ksize` and `pool_strides`.\n",
    " * We recommend you use same padding, but you're welcome to use any padding.\n",
    "\n",
    "**Note:** You **can't** use [TensorFlow Layers](https://www.tensorflow.org/api_docs/python/tf/layers) or [TensorFlow Layers (contrib)](https://www.tensorflow.org/api_guides/python/contrib.layers) for **this** layer, but you can still use TensorFlow's [Neural Network](https://www.tensorflow.org/api_docs/python/tf/nn) package. You may still use the shortcut option for all the **other** layers."
   ]
  },
  {
   "cell_type": "code",
   "execution_count": 55,
   "metadata": {
    "collapsed": false,
    "deletable": true,
    "editable": true
   },
   "outputs": [
    {
     "name": "stdout",
     "output_type": "stream",
     "text": [
      "Tests Passed\n"
     ]
    }
   ],
   "source": [
    "def conv2d_maxpool(x_tensor, conv_num_outputs, conv_ksize, conv_strides, pool_ksize, pool_strides):\n",
    "    \"\"\"\n",
    "    Apply convolution then max pooling to x_tensor\n",
    "    :param x_tensor: TensorFlow Tensor\n",
    "    :param conv_num_outputs: Number of outputs for the convolutional layer\n",
    "    :param conv_ksize: kernal size 2-D Tuple for the convolutional layer\n",
    "    :param conv_strides: Stride 2-D Tuple for convolution\n",
    "    :param pool_ksize: kernal size 2-D Tuple for pool\n",
    "    :param pool_strides: Stride 2-D Tuple for pool\n",
    "    : return: A tensor that represents convolution and max pooling of x_tensor\n",
    "    \"\"\"\n",
    "    input_channel_depth = int(x_tensor.get_shape()[3])\n",
    "    # The shape of the filter weight is (height, width, input_depth, output_depth)\n",
    "    filter_weights = tf.Variable(tf.truncated_normal([*conv_ksize, input_channel_depth, conv_num_outputs], dtype=tf.float32, mean=0, stddev = 0.1))\n",
    "    # The shape of the biases is equal the the number of outputs of the conv layer\n",
    "    filter_biases = tf.Variable(tf.constant(0, shape=[conv_num_outputs], dtype=tf.float32))\n",
    "    \n",
    "    layer = tf.nn.conv2d(input=x_tensor, filter=filter_weights, strides=[1, *conv_strides, 1], padding='SAME')\n",
    "    layer += filter_biases\n",
    "    layer = tf.nn.max_pool(layer, [1, *pool_ksize, 1], strides=[1, *pool_strides, 1], padding='SAME')\n",
    "    return tf.nn.relu(layer)\n",
    "\n",
    "\n",
    "\"\"\"\n",
    "DON'T MODIFY ANYTHING IN THIS CELL THAT IS BELOW THIS LINE\n",
    "\"\"\"\n",
    "tests.test_con_pool(conv2d_maxpool)"
   ]
  },
  {
   "cell_type": "markdown",
   "metadata": {
    "deletable": true,
    "editable": true
   },
   "source": [
    "### Flatten Layer\n",
    "Implement the `flatten` function to change the dimension of `x_tensor` from a 4-D tensor to a 2-D tensor.  The output should be the shape (*Batch Size*, *Flattened Image Size*). Shortcut option: you can use classes from the [TensorFlow Layers](https://www.tensorflow.org/api_docs/python/tf/layers) or [TensorFlow Layers (contrib)](https://www.tensorflow.org/api_guides/python/contrib.layers) packages for this layer. For more of a challenge, only use other TensorFlow packages."
   ]
  },
  {
   "cell_type": "code",
   "execution_count": 56,
   "metadata": {
    "collapsed": false,
    "deletable": true,
    "editable": true
   },
   "outputs": [
    {
     "name": "stdout",
     "output_type": "stream",
     "text": [
      "Tests Passed\n"
     ]
    }
   ],
   "source": [
    "def flatten(x_tensor):\n",
    "    \"\"\"\n",
    "    Flatten x_tensor to (Batch Size, Flattened Image Size)\n",
    "    : x_tensor: A tensor of size (Batch Size, ...), where ... are the image dimensions.\n",
    "    : return: A tensor of size (Batch Size, Flattened Image Size).\n",
    "    \"\"\"\n",
    "    batch_size = x_tensor.get_shape().as_list()[0]\n",
    "    \n",
    "    width = x_tensor.get_shape().as_list()[1]\n",
    "    height = x_tensor.get_shape().as_list()[2]\n",
    "    depth = x_tensor.get_shape().as_list()[3]\n",
    "    \n",
    "    image_flat_size = width*height*depth\n",
    "    return tf.contrib.layers.flatten(x_tensor, [batch_size, image_flat_size])\n",
    "\n",
    "\n",
    "\"\"\"\n",
    "DON'T MODIFY ANYTHING IN THIS CELL THAT IS BELOW THIS LINE\n",
    "\"\"\"\n",
    "tests.test_flatten(flatten)"
   ]
  },
  {
   "cell_type": "markdown",
   "metadata": {
    "deletable": true,
    "editable": true
   },
   "source": [
    "### Fully-Connected Layer\n",
    "Implement the `fully_conn` function to apply a fully connected layer to `x_tensor` with the shape (*Batch Size*, *num_outputs*). Shortcut option: you can use classes from the [TensorFlow Layers](https://www.tensorflow.org/api_docs/python/tf/layers) or [TensorFlow Layers (contrib)](https://www.tensorflow.org/api_guides/python/contrib.layers) packages for this layer. For more of a challenge, only use other TensorFlow packages."
   ]
  },
  {
   "cell_type": "code",
   "execution_count": 57,
   "metadata": {
    "collapsed": false,
    "deletable": true,
    "editable": true
   },
   "outputs": [
    {
     "name": "stdout",
     "output_type": "stream",
     "text": [
      "Tests Passed\n"
     ]
    }
   ],
   "source": [
    "def fully_conn(x_tensor, num_outputs):\n",
    "    \"\"\"\n",
    "    Apply a fully connected layer to x_tensor using weight and bias\n",
    "    : x_tensor: A 2-D tensor where the first dimension is batch size.\n",
    "    : num_outputs: The number of output that the new tensor should be.\n",
    "    : return: A 2-D tensor where the second dimension is num_outputs.\n",
    "    \"\"\"\n",
    "    # TODO: Implement Function\n",
    "    return tf.contrib.layers.fully_connected(inputs = x_tensor, \n",
    "                                             num_outputs = num_outputs,\n",
    "                                             activation_fn = tf.nn.relu)\n",
    "\n",
    "\n",
    "\"\"\"\n",
    "DON'T MODIFY ANYTHING IN THIS CELL THAT IS BELOW THIS LINE\n",
    "\"\"\"\n",
    "tests.test_fully_conn(fully_conn)"
   ]
  },
  {
   "cell_type": "markdown",
   "metadata": {
    "deletable": true,
    "editable": true
   },
   "source": [
    "### Output Layer\n",
    "Implement the `output` function to apply a fully connected layer to `x_tensor` with the shape (*Batch Size*, *num_outputs*). Shortcut option: you can use classes from the [TensorFlow Layers](https://www.tensorflow.org/api_docs/python/tf/layers) or [TensorFlow Layers (contrib)](https://www.tensorflow.org/api_guides/python/contrib.layers) packages for this layer. For more of a challenge, only use other TensorFlow packages.\n",
    "\n",
    "**Note:** Activation, softmax, or cross entropy should **not** be applied to this."
   ]
  },
  {
   "cell_type": "code",
   "execution_count": 58,
   "metadata": {
    "collapsed": false,
    "deletable": true,
    "editable": true
   },
   "outputs": [
    {
     "name": "stdout",
     "output_type": "stream",
     "text": [
      "Tests Passed\n"
     ]
    }
   ],
   "source": [
    "def output(x_tensor, num_outputs):\n",
    "    \"\"\"\n",
    "    Apply a output layer to x_tensor using weight and bias\n",
    "    : x_tensor: A 2-D tensor where the first dimension is batch size.\n",
    "    : num_outputs: The number of output that the new tensor should be.\n",
    "    : return: A 2-D tensor where the second dimension is num_outputs.\n",
    "    \"\"\"\n",
    "    # TODO: Implement Function\n",
    "    return tf.contrib.layers.fully_connected(inputs = x_tensor, \n",
    "                                             num_outputs = num_outputs,\n",
    "                                             activation_fn = None)\n",
    "\n",
    "\n",
    "\n",
    "\"\"\"\n",
    "DON'T MODIFY ANYTHING IN THIS CELL THAT IS BELOW THIS LINE\n",
    "\"\"\"\n",
    "tests.test_output(output)"
   ]
  },
  {
   "cell_type": "markdown",
   "metadata": {
    "deletable": true,
    "editable": true
   },
   "source": [
    "### Create Convolutional Model\n",
    "Implement the function `conv_net` to create a convolutional neural network model. The function takes in a batch of images, `x`, and outputs logits.  Use the layers you created above to create this model:\n",
    "\n",
    "* Apply 1, 2, or 3 Convolution and Max Pool layers\n",
    "* Apply a Flatten Layer\n",
    "* Apply 1, 2, or 3 Fully Connected Layers\n",
    "* Apply an Output Layer\n",
    "* Return the output\n",
    "* Apply [TensorFlow's Dropout](https://www.tensorflow.org/api_docs/python/tf/nn/dropout) to one or more layers in the model using `keep_prob`. "
   ]
  },
  {
   "cell_type": "code",
   "execution_count": 59,
   "metadata": {
    "collapsed": false,
    "deletable": true,
    "editable": true
   },
   "outputs": [
    {
     "name": "stdout",
     "output_type": "stream",
     "text": [
      "Neural Network Built!\n"
     ]
    }
   ],
   "source": [
    "def conv_net(x, keep_prob):\n",
    "    \"\"\"\n",
    "    Create a convolutional neural network model\n",
    "    : x: Placeholder tensor that holds image data.\n",
    "    : keep_prob: Placeholder tensor that hold dropout keep probability.\n",
    "    : return: Tensor that represents logits\n",
    "    \"\"\"\n",
    "    # TODO: Apply 1, 2, or 3 Convolution and Max Pool layers\n",
    "    #    Play around with different number of outputs, kernel size and stride\n",
    "    # Function Definition from Above:\n",
    "    #    conv2d_maxpool(x_tensor, conv_num_outputs, conv_ksize, conv_strides, pool_ksize, pool_strides)\n",
    "    \n",
    "    #lyr1 = conv2d_maxpool(x,6,(5, 5), (1, 1),(2,2),(2,2))\n",
    "    #lyr2 = conv2d_maxpool(lyr1,16,(5, 5), (1, 1),(2, 2), (2, 2))\n",
    "    #lyr3 = tf.layers.dropout(lyr2, rate = 0.5)\n",
    "    #lyr4 = flatten(lyr3) \n",
    "    #lyr5 = fully_conn(lyr4,384)\n",
    "    #lyr6 = fully_conn(lyr5, 128)\n",
    "    #out = output(lyr6,10)\n",
    "    \n",
    "    lyr1 = conv2d_maxpool(x,6,(5, 5), (1, 1),(2,2),(2,2))\n",
    "    lyr2 = conv2d_maxpool(lyr1,16,(5, 5), (1, 1),(2, 2), (2, 2))\n",
    "    lyr3 = tf.layers.dropout(lyr2, rate = keep_prob)    \n",
    "    lyr4 = flatten(lyr3)    \n",
    "    lyr5 = fully_conn(lyr4,120)\n",
    "    lyr6 = tf.layers.dropout(lyr5, rate = keep_prob)\n",
    "    \n",
    "    out = output(lyr6,10)\n",
    "    return out\n",
    "\n",
    "\n",
    "\"\"\"\n",
    "DON'T MODIFY ANYTHING IN THIS CELL THAT IS BELOW THIS LINE\n",
    "\"\"\"\n",
    "\n",
    "##############################\n",
    "## Build the Neural Network ##\n",
    "##############################\n",
    "\n",
    "# Remove previous weights, bias, inputs, etc..\n",
    "tf.reset_default_graph()\n",
    "\n",
    "# Inputs\n",
    "x = neural_net_image_input((32, 32, 3))\n",
    "y = neural_net_label_input(10)\n",
    "keep_prob = neural_net_keep_prob_input()\n",
    "\n",
    "# Model\n",
    "logits = conv_net(x, keep_prob)\n",
    "\n",
    "# Name logits Tensor, so that is can be loaded from disk after training\n",
    "logits = tf.identity(logits, name='logits')\n",
    "\n",
    "# Loss and Optimizer\n",
    "cost = tf.reduce_mean(tf.nn.softmax_cross_entropy_with_logits(logits=logits, labels=y))\n",
    "optimizer = tf.train.AdamOptimizer().minimize(cost)\n",
    "\n",
    "# Accuracy\n",
    "correct_pred = tf.equal(tf.argmax(logits, 1), tf.argmax(y, 1))\n",
    "accuracy = tf.reduce_mean(tf.cast(correct_pred, tf.float32), name='accuracy')\n",
    "\n",
    "tests.test_conv_net(conv_net)"
   ]
  },
  {
   "cell_type": "markdown",
   "metadata": {
    "deletable": true,
    "editable": true
   },
   "source": [
    "## Train the Neural Network\n",
    "### Single Optimization\n",
    "Implement the function `train_neural_network` to do a single optimization.  The optimization should use `optimizer` to optimize in `session` with a `feed_dict` of the following:\n",
    "* `x` for image input\n",
    "* `y` for labels\n",
    "* `keep_prob` for keep probability for dropout\n",
    "\n",
    "This function will be called for each batch, so `tf.global_variables_initializer()` has already been called.\n",
    "\n",
    "Note: Nothing needs to be returned. This function is only optimizing the neural network."
   ]
  },
  {
   "cell_type": "code",
   "execution_count": 60,
   "metadata": {
    "collapsed": false,
    "deletable": true,
    "editable": true
   },
   "outputs": [
    {
     "name": "stdout",
     "output_type": "stream",
     "text": [
      "Tests Passed\n"
     ]
    }
   ],
   "source": [
    "def train_neural_network(session, optimizer, keep_probability, feature_batch, label_batch):\n",
    "    \"\"\"\n",
    "    Optimize the session on a batch of images and labels\n",
    "    : session: Current TensorFlow session\n",
    "    : optimizer: TensorFlow optimizer function\n",
    "    : keep_probability: keep probability\n",
    "    : feature_batch: Batch of Numpy image data\n",
    "    : label_batch: Batch of Numpy label data\n",
    "    \"\"\"\n",
    "    session.run(optimizer, feed_dict={x: feature_batch, y: label_batch, keep_prob: keep_probability})\n",
    "\n",
    "\n",
    "\n",
    "\"\"\"\n",
    "DON'T MODIFY ANYTHING IN THIS CELL THAT IS BELOW THIS LINE\n",
    "\"\"\"\n",
    "tests.test_train_nn(train_neural_network)"
   ]
  },
  {
   "cell_type": "markdown",
   "metadata": {
    "deletable": true,
    "editable": true
   },
   "source": [
    "### Show Stats\n",
    "Implement the function `print_stats` to print loss and validation accuracy.  Use the global variables `valid_features` and `valid_labels` to calculate validation accuracy.  Use a keep probability of `1.0` to calculate the loss and validation accuracy."
   ]
  },
  {
   "cell_type": "code",
   "execution_count": 61,
   "metadata": {
    "collapsed": false,
    "deletable": true,
    "editable": true
   },
   "outputs": [],
   "source": [
    "def print_stats(session, feature_batch, label_batch, cost, accuracy):\n",
    "    \"\"\"\n",
    "    Print information about loss and validation accuracy\n",
    "    : session: Current TensorFlow session\n",
    "    : feature_batch: Batch of Numpy image data\n",
    "    : label_batch: Batch of Numpy label data\n",
    "    : cost: TensorFlow cost function\n",
    "    : accuracy: TensorFlow accuracy function\n",
    "    \"\"\"\n",
    "    \n",
    "    loss = session.run(cost, feed_dict = \n",
    "                   {x: feature_batch,y: label_batch, keep_prob: 1.0})\n",
    "    acc = session.run(accuracy,feed_dict = \n",
    "                  {x: valid_features, y: valid_labels, keep_prob: 1.0})\n",
    "    \n",
    "    print('cost:{}'.format(loss), \" \",'acc:{}'.format(acc))"
   ]
  },
  {
   "cell_type": "markdown",
   "metadata": {
    "deletable": true,
    "editable": true
   },
   "source": [
    "### Hyperparameters\n",
    "Tune the following parameters:\n",
    "* Set `epochs` to the number of iterations until the network stops learning or start overfitting\n",
    "* Set `batch_size` to the highest number that your machine has memory for.  Most people set them to common sizes of memory:\n",
    " * 64\n",
    " * 128\n",
    " * 256\n",
    " * ...\n",
    "* Set `keep_probability` to the probability of keeping a node using dropout"
   ]
  },
  {
   "cell_type": "code",
   "execution_count": 62,
   "metadata": {
    "collapsed": true,
    "deletable": true,
    "editable": true
   },
   "outputs": [],
   "source": [
    "# TODO: Tune Parameters\n",
    "epochs = 24\n",
    "batch_size = 128\n",
    "keep_probability = 0.5"
   ]
  },
  {
   "cell_type": "markdown",
   "metadata": {
    "deletable": true,
    "editable": true
   },
   "source": [
    "### Train on a Single CIFAR-10 Batch\n",
    "Instead of training the neural network on all the CIFAR-10 batches of data, let's use a single batch. This should save time while you iterate on the model to get a better accuracy.  Once the final validation accuracy is 50% or greater, run the model on all the data in the next section."
   ]
  },
  {
   "cell_type": "code",
   "execution_count": 63,
   "metadata": {
    "collapsed": false,
    "deletable": true,
    "editable": true
   },
   "outputs": [
    {
     "name": "stdout",
     "output_type": "stream",
     "text": [
      "Checking the Training on a Single Batch...\n",
      "Epoch  1, CIFAR-10 Batch 1:  cost:2.2101144790649414   acc:0.31199997663497925\n",
      "Epoch  2, CIFAR-10 Batch 1:  cost:1.9858158826828003   acc:0.4031999707221985\n",
      "Epoch  3, CIFAR-10 Batch 1:  cost:1.6994092464447021   acc:0.429999977350235\n",
      "Epoch  4, CIFAR-10 Batch 1:  cost:1.522059679031372   acc:0.44519999623298645\n",
      "Epoch  5, CIFAR-10 Batch 1:  cost:1.3809700012207031   acc:0.4575999677181244\n",
      "Epoch  6, CIFAR-10 Batch 1:  cost:1.2550041675567627   acc:0.46859997510910034\n",
      "Epoch  7, CIFAR-10 Batch 1:  cost:1.1722077131271362   acc:0.48339998722076416\n",
      "Epoch  8, CIFAR-10 Batch 1:  cost:1.1198208332061768   acc:0.5015999674797058\n",
      "Epoch  9, CIFAR-10 Batch 1:  cost:1.0520639419555664   acc:0.5071999430656433\n",
      "Epoch 10, CIFAR-10 Batch 1:  cost:0.998455286026001   acc:0.5077999234199524\n",
      "Epoch 11, CIFAR-10 Batch 1:  cost:0.934981107711792   acc:0.5119999647140503\n",
      "Epoch 12, CIFAR-10 Batch 1:  cost:0.8676778078079224   acc:0.5139999389648438\n",
      "Epoch 13, CIFAR-10 Batch 1:  cost:0.8048954010009766   acc:0.5153999328613281\n",
      "Epoch 14, CIFAR-10 Batch 1:  cost:0.7397783398628235   acc:0.5189999341964722\n",
      "Epoch 15, CIFAR-10 Batch 1:  cost:0.6751664876937866   acc:0.5181999206542969\n",
      "Epoch 16, CIFAR-10 Batch 1:  cost:0.6080763339996338   acc:0.5207999348640442\n",
      "Epoch 17, CIFAR-10 Batch 1:  cost:0.5458212494850159   acc:0.5257999300956726\n",
      "Epoch 18, CIFAR-10 Batch 1:  cost:0.4852619767189026   acc:0.5225999355316162\n",
      "Epoch 19, CIFAR-10 Batch 1:  cost:0.4428194761276245   acc:0.5247999429702759\n",
      "Epoch 20, CIFAR-10 Batch 1:  cost:0.3971337378025055   acc:0.5233999490737915\n",
      "Epoch 21, CIFAR-10 Batch 1:  cost:0.358928918838501   acc:0.5167999267578125\n",
      "Epoch 22, CIFAR-10 Batch 1:  cost:0.3709544241428375   acc:0.4939999580383301\n",
      "Epoch 23, CIFAR-10 Batch 1:  cost:0.38543111085891724   acc:0.49619996547698975\n",
      "Epoch 24, CIFAR-10 Batch 1:  cost:0.3043597340583801   acc:0.5033999681472778\n"
     ]
    }
   ],
   "source": [
    "\"\"\"\n",
    "DON'T MODIFY ANYTHING IN THIS CELL\n",
    "\"\"\"\n",
    "print('Checking the Training on a Single Batch...')\n",
    "with tf.Session() as sess:\n",
    "    # Initializing the variables\n",
    "    sess.run(tf.global_variables_initializer())\n",
    "    \n",
    "    # Training cycle\n",
    "    for epoch in range(epochs):\n",
    "        batch_i = 1\n",
    "        for batch_features, batch_labels in helper.load_preprocess_training_batch(batch_i, batch_size):\n",
    "            train_neural_network(sess, optimizer, keep_probability, batch_features, batch_labels)\n",
    "        print('Epoch {:>2}, CIFAR-10 Batch {}:  '.format(epoch + 1, batch_i), end='')\n",
    "        print_stats(sess, batch_features, batch_labels, cost, accuracy)"
   ]
  },
  {
   "cell_type": "markdown",
   "metadata": {
    "deletable": true,
    "editable": true
   },
   "source": [
    "### Fully Train the Model\n",
    "Now that you got a good accuracy with a single CIFAR-10 batch, try it with all five batches."
   ]
  },
  {
   "cell_type": "code",
   "execution_count": 64,
   "metadata": {
    "collapsed": false,
    "deletable": true,
    "editable": true
   },
   "outputs": [
    {
     "name": "stdout",
     "output_type": "stream",
     "text": [
      "Training...\n",
      "Epoch  1, CIFAR-10 Batch 1:  cost:2.0316033363342285   acc:0.3683999478816986\n",
      "Epoch  1, CIFAR-10 Batch 2:  cost:1.6093261241912842   acc:0.41899994015693665\n",
      "Epoch  1, CIFAR-10 Batch 3:  cost:1.4861876964569092   acc:0.43219998478889465\n",
      "Epoch  1, CIFAR-10 Batch 4:  cost:1.5792726278305054   acc:0.4514000117778778\n",
      "Epoch  1, CIFAR-10 Batch 5:  cost:1.6524688005447388   acc:0.46879997849464417\n",
      "Epoch  2, CIFAR-10 Batch 1:  cost:1.9460480213165283   acc:0.473999947309494\n",
      "Epoch  2, CIFAR-10 Batch 2:  cost:1.4227495193481445   acc:0.49359995126724243\n",
      "Epoch  2, CIFAR-10 Batch 3:  cost:1.262172818183899   acc:0.512199878692627\n",
      "Epoch  2, CIFAR-10 Batch 4:  cost:1.3757984638214111   acc:0.49559998512268066\n",
      "Epoch  2, CIFAR-10 Batch 5:  cost:1.46835458278656   acc:0.5377999544143677\n",
      "Epoch  3, CIFAR-10 Batch 1:  cost:1.6700681447982788   acc:0.5347999334335327\n",
      "Epoch  3, CIFAR-10 Batch 2:  cost:1.2279393672943115   acc:0.5251999497413635\n",
      "Epoch  3, CIFAR-10 Batch 3:  cost:1.0651447772979736   acc:0.5371999144554138\n",
      "Epoch  3, CIFAR-10 Batch 4:  cost:1.1734299659729004   acc:0.5483999252319336\n",
      "Epoch  3, CIFAR-10 Batch 5:  cost:1.257521152496338   acc:0.5621999502182007\n",
      "Epoch  4, CIFAR-10 Batch 1:  cost:1.481879472732544   acc:0.562999963760376\n",
      "Epoch  4, CIFAR-10 Batch 2:  cost:1.144925832748413   acc:0.5671998858451843\n",
      "Epoch  4, CIFAR-10 Batch 3:  cost:0.9506752490997314   acc:0.556399941444397\n",
      "Epoch  4, CIFAR-10 Batch 4:  cost:1.046994924545288   acc:0.5763999223709106\n",
      "Epoch  4, CIFAR-10 Batch 5:  cost:1.1015194654464722   acc:0.5751999616622925\n",
      "Epoch  5, CIFAR-10 Batch 1:  cost:1.399029016494751   acc:0.5845999717712402\n",
      "Epoch  5, CIFAR-10 Batch 2:  cost:1.1049084663391113   acc:0.5845999717712402\n",
      "Epoch  5, CIFAR-10 Batch 3:  cost:0.8264285326004028   acc:0.577799916267395\n",
      "Epoch  5, CIFAR-10 Batch 4:  cost:0.9410456418991089   acc:0.5889999866485596\n",
      "Epoch  5, CIFAR-10 Batch 5:  cost:0.9616039991378784   acc:0.5961999297142029\n",
      "Epoch  6, CIFAR-10 Batch 1:  cost:1.2853370904922485   acc:0.597399890422821\n",
      "Epoch  6, CIFAR-10 Batch 2:  cost:1.0251210927963257   acc:0.595599889755249\n",
      "Epoch  6, CIFAR-10 Batch 3:  cost:0.7460588812828064   acc:0.593799889087677\n",
      "Epoch  6, CIFAR-10 Batch 4:  cost:0.8590425252914429   acc:0.5953998565673828\n",
      "Epoch  6, CIFAR-10 Batch 5:  cost:0.8612313866615295   acc:0.6121999025344849\n",
      "Epoch  7, CIFAR-10 Batch 1:  cost:1.184896469116211   acc:0.606999933719635\n",
      "Epoch  7, CIFAR-10 Batch 2:  cost:0.94111567735672   acc:0.6017999649047852\n",
      "Epoch  7, CIFAR-10 Batch 3:  cost:0.6920235753059387   acc:0.5989999771118164\n",
      "Epoch  7, CIFAR-10 Batch 4:  cost:0.787818968296051   acc:0.6069998741149902\n",
      "Epoch  7, CIFAR-10 Batch 5:  cost:0.7859891653060913   acc:0.6153998970985413\n",
      "Epoch  8, CIFAR-10 Batch 1:  cost:1.1171212196350098   acc:0.6111999154090881\n",
      "Epoch  8, CIFAR-10 Batch 2:  cost:0.8386505246162415   acc:0.6065999269485474\n",
      "Epoch  8, CIFAR-10 Batch 3:  cost:0.6237232685089111   acc:0.609799861907959\n",
      "Epoch  8, CIFAR-10 Batch 4:  cost:0.713403046131134   acc:0.608799934387207\n",
      "Epoch  8, CIFAR-10 Batch 5:  cost:0.7141211032867432   acc:0.6235998868942261\n",
      "Epoch  9, CIFAR-10 Batch 1:  cost:1.0039774179458618   acc:0.6163999438285828\n",
      "Epoch  9, CIFAR-10 Batch 2:  cost:0.7502897381782532   acc:0.60999995470047\n",
      "Epoch  9, CIFAR-10 Batch 3:  cost:0.5492877960205078   acc:0.6161999702453613\n",
      "Epoch  9, CIFAR-10 Batch 4:  cost:0.6673411130905151   acc:0.616399884223938\n",
      "Epoch  9, CIFAR-10 Batch 5:  cost:0.6483825445175171   acc:0.6267998814582825\n",
      "Epoch 10, CIFAR-10 Batch 1:  cost:0.9124739170074463   acc:0.6223999261856079\n",
      "Epoch 10, CIFAR-10 Batch 2:  cost:0.6742548942565918   acc:0.6097999811172485\n",
      "Epoch 10, CIFAR-10 Batch 3:  cost:0.49608510732650757   acc:0.6243999004364014\n",
      "Epoch 10, CIFAR-10 Batch 4:  cost:0.6145744919776917   acc:0.6165999174118042\n",
      "Epoch 10, CIFAR-10 Batch 5:  cost:0.5876134037971497   acc:0.627799928188324\n",
      "Epoch 11, CIFAR-10 Batch 1:  cost:0.8614136576652527   acc:0.6233999729156494\n",
      "Epoch 11, CIFAR-10 Batch 2:  cost:0.6026605367660522   acc:0.6157999038696289\n",
      "Epoch 11, CIFAR-10 Batch 3:  cost:0.4388731122016907   acc:0.6279998421669006\n",
      "Epoch 11, CIFAR-10 Batch 4:  cost:0.5563326478004456   acc:0.6183999180793762\n",
      "Epoch 11, CIFAR-10 Batch 5:  cost:0.5430431365966797   acc:0.625999927520752\n",
      "Epoch 12, CIFAR-10 Batch 1:  cost:0.793921172618866   acc:0.6245998740196228\n",
      "Epoch 12, CIFAR-10 Batch 2:  cost:0.5460805892944336   acc:0.6189998984336853\n",
      "Epoch 12, CIFAR-10 Batch 3:  cost:0.3962259590625763   acc:0.6299998760223389\n",
      "Epoch 12, CIFAR-10 Batch 4:  cost:0.503251314163208   acc:0.6223999261856079\n",
      "Epoch 12, CIFAR-10 Batch 5:  cost:0.49708080291748047   acc:0.627599835395813\n",
      "Epoch 13, CIFAR-10 Batch 1:  cost:0.7471175789833069   acc:0.6293998956680298\n",
      "Epoch 13, CIFAR-10 Batch 2:  cost:0.49015042185783386   acc:0.624799907207489\n",
      "Epoch 13, CIFAR-10 Batch 3:  cost:0.3738076686859131   acc:0.6367998719215393\n",
      "Epoch 13, CIFAR-10 Batch 4:  cost:0.4574463963508606   acc:0.6283999085426331\n",
      "Epoch 13, CIFAR-10 Batch 5:  cost:0.4682587683200836   acc:0.6251999139785767\n",
      "Epoch 14, CIFAR-10 Batch 1:  cost:0.7002683877944946   acc:0.627799928188324\n",
      "Epoch 14, CIFAR-10 Batch 2:  cost:0.43608784675598145   acc:0.6263998746871948\n",
      "Epoch 14, CIFAR-10 Batch 3:  cost:0.34013989567756653   acc:0.6349998712539673\n",
      "Epoch 14, CIFAR-10 Batch 4:  cost:0.41040679812431335   acc:0.6381998658180237\n",
      "Epoch 14, CIFAR-10 Batch 5:  cost:0.4334721863269806   acc:0.6265999674797058\n",
      "Epoch 15, CIFAR-10 Batch 1:  cost:0.6668623089790344   acc:0.6287998557090759\n",
      "Epoch 15, CIFAR-10 Batch 2:  cost:0.3991343677043915   acc:0.6281998753547668\n",
      "Epoch 15, CIFAR-10 Batch 3:  cost:0.3208730220794678   acc:0.6295998692512512\n",
      "Epoch 15, CIFAR-10 Batch 4:  cost:0.3936954736709595   acc:0.6351999044418335\n",
      "Epoch 15, CIFAR-10 Batch 5:  cost:0.3963904082775116   acc:0.6305999159812927\n",
      "Epoch 16, CIFAR-10 Batch 1:  cost:0.6528971791267395   acc:0.6235998868942261\n",
      "Epoch 16, CIFAR-10 Batch 2:  cost:0.3684200644493103   acc:0.6245998740196228\n",
      "Epoch 16, CIFAR-10 Batch 3:  cost:0.2900853753089905   acc:0.621999979019165\n",
      "Epoch 16, CIFAR-10 Batch 4:  cost:0.3933154344558716   acc:0.6297999024391174\n",
      "Epoch 16, CIFAR-10 Batch 5:  cost:0.35343682765960693   acc:0.6291999220848083\n",
      "Epoch 17, CIFAR-10 Batch 1:  cost:0.6052942276000977   acc:0.6207998991012573\n",
      "Epoch 17, CIFAR-10 Batch 2:  cost:0.3375107944011688   acc:0.6385999321937561\n",
      "Epoch 17, CIFAR-10 Batch 3:  cost:0.26910534501075745   acc:0.616599977016449\n",
      "Epoch 17, CIFAR-10 Batch 4:  cost:0.3754894733428955   acc:0.6251999139785767\n",
      "Epoch 17, CIFAR-10 Batch 5:  cost:0.3156544268131256   acc:0.6263999342918396\n",
      "Epoch 18, CIFAR-10 Batch 1:  cost:0.5280106663703918   acc:0.6239999532699585\n",
      "Epoch 18, CIFAR-10 Batch 2:  cost:0.3644564151763916   acc:0.6349998712539673\n",
      "Epoch 18, CIFAR-10 Batch 3:  cost:0.25443458557128906   acc:0.6187999248504639\n",
      "Epoch 18, CIFAR-10 Batch 4:  cost:0.3525616526603699   acc:0.6303998827934265\n",
      "Epoch 18, CIFAR-10 Batch 5:  cost:0.2857884466648102   acc:0.6223999261856079\n",
      "Epoch 19, CIFAR-10 Batch 1:  cost:0.4745921790599823   acc:0.6269998550415039\n",
      "Epoch 19, CIFAR-10 Batch 2:  cost:0.34572240710258484   acc:0.6339998841285706\n",
      "Epoch 19, CIFAR-10 Batch 3:  cost:0.2458140254020691   acc:0.6157999038696289\n",
      "Epoch 19, CIFAR-10 Batch 4:  cost:0.33515626192092896   acc:0.6301999092102051\n",
      "Epoch 19, CIFAR-10 Batch 5:  cost:0.26319003105163574   acc:0.6195998787879944\n",
      "Epoch 20, CIFAR-10 Batch 1:  cost:0.4132864773273468   acc:0.6209999322891235\n",
      "Epoch 20, CIFAR-10 Batch 2:  cost:0.3186666965484619   acc:0.6303999423980713\n",
      "Epoch 20, CIFAR-10 Batch 3:  cost:0.23596718907356262   acc:0.6153998970985413\n",
      "Epoch 20, CIFAR-10 Batch 4:  cost:0.3106282651424408   acc:0.6239999532699585\n",
      "Epoch 20, CIFAR-10 Batch 5:  cost:0.25054484605789185   acc:0.6179999113082886\n",
      "Epoch 21, CIFAR-10 Batch 1:  cost:0.36001911759376526   acc:0.6231999397277832\n",
      "Epoch 21, CIFAR-10 Batch 2:  cost:0.287895143032074   acc:0.6297999024391174\n",
      "Epoch 21, CIFAR-10 Batch 3:  cost:0.1996828317642212   acc:0.6237999200820923\n",
      "Epoch 21, CIFAR-10 Batch 4:  cost:0.2817095220088959   acc:0.61819988489151\n",
      "Epoch 21, CIFAR-10 Batch 5:  cost:0.24796044826507568   acc:0.6109999418258667\n",
      "Epoch 22, CIFAR-10 Batch 1:  cost:0.3367639183998108   acc:0.621199905872345\n",
      "Epoch 22, CIFAR-10 Batch 2:  cost:0.25131791830062866   acc:0.6317998766899109\n",
      "Epoch 22, CIFAR-10 Batch 3:  cost:0.18165342509746552   acc:0.6273999214172363\n",
      "Epoch 22, CIFAR-10 Batch 4:  cost:0.25563913583755493   acc:0.6187998652458191\n",
      "Epoch 22, CIFAR-10 Batch 5:  cost:0.24701735377311707   acc:0.615199863910675\n",
      "Epoch 23, CIFAR-10 Batch 1:  cost:0.31604665517807007   acc:0.6223999261856079\n",
      "Epoch 23, CIFAR-10 Batch 2:  cost:0.22925230860710144   acc:0.6345999240875244\n",
      "Epoch 23, CIFAR-10 Batch 3:  cost:0.16278257966041565   acc:0.621799886226654\n",
      "Epoch 23, CIFAR-10 Batch 4:  cost:0.24157921969890594   acc:0.6131998896598816\n",
      "Epoch 23, CIFAR-10 Batch 5:  cost:0.22918950021266937   acc:0.6273999214172363\n",
      "Epoch 24, CIFAR-10 Batch 1:  cost:0.2790793478488922   acc:0.6231998801231384\n",
      "Epoch 24, CIFAR-10 Batch 2:  cost:0.20671138167381287   acc:0.6341999173164368\n",
      "Epoch 24, CIFAR-10 Batch 3:  cost:0.1461019366979599   acc:0.6253998875617981\n",
      "Epoch 24, CIFAR-10 Batch 4:  cost:0.21832820773124695   acc:0.6239998936653137\n",
      "Epoch 24, CIFAR-10 Batch 5:  cost:0.22416675090789795   acc:0.6351999640464783\n"
     ]
    }
   ],
   "source": [
    "\"\"\"\n",
    "DON'T MODIFY ANYTHING IN THIS CELL\n",
    "\"\"\"\n",
    "save_model_path = './image_classification'\n",
    "\n",
    "print('Training...')\n",
    "with tf.Session() as sess:\n",
    "    # Initializing the variables\n",
    "    sess.run(tf.global_variables_initializer())\n",
    "    \n",
    "    # Training cycle\n",
    "    for epoch in range(epochs):\n",
    "        # Loop over all batches\n",
    "        n_batches = 5\n",
    "        for batch_i in range(1, n_batches + 1):\n",
    "            for batch_features, batch_labels in helper.load_preprocess_training_batch(batch_i, batch_size):\n",
    "                train_neural_network(sess, optimizer, keep_probability, batch_features, batch_labels)\n",
    "            print('Epoch {:>2}, CIFAR-10 Batch {}:  '.format(epoch + 1, batch_i), end='')\n",
    "            print_stats(sess, batch_features, batch_labels, cost, accuracy)\n",
    "            \n",
    "    # Save Model\n",
    "    saver = tf.train.Saver()\n",
    "    save_path = saver.save(sess, save_model_path)"
   ]
  },
  {
   "cell_type": "markdown",
   "metadata": {
    "deletable": true,
    "editable": true
   },
   "source": [
    "# Checkpoint\n",
    "The model has been saved to disk.\n",
    "## Test Model\n",
    "Test your model against the test dataset.  This will be your final accuracy. You should have an accuracy greater than 50%. If you don't, keep tweaking the model architecture and parameters."
   ]
  },
  {
   "cell_type": "code",
   "execution_count": 65,
   "metadata": {
    "collapsed": false,
    "deletable": true,
    "editable": true,
    "scrolled": true
   },
   "outputs": [
    {
     "name": "stdout",
     "output_type": "stream",
     "text": [
      "Testing Accuracy: 0.6306368670886076\n",
      "\n"
     ]
    },
    {
     "data": {
      "image/png": "[encoded data removed]",
      "text/plain": [
       "<matplotlib.figure.Figure at 0x7fc7cd58b2e8>"
      ]
     },
     "metadata": {
      "image/png": {
       "height": 319,
       "width": 355
      }
     },
     "output_type": "display_data"
    }
   ],
   "source": [
    "\"\"\"\n",
    "DON'T MODIFY ANYTHING IN THIS CELL\n",
    "\"\"\"\n",
    "%matplotlib inline\n",
    "%config InlineBackend.figure_format = 'retina'\n",
    "\n",
    "import tensorflow as tf\n",
    "import pickle\n",
    "import helper\n",
    "import random\n",
    "\n",
    "# Set batch size if not already set\n",
    "try:\n",
    "    if batch_size:\n",
    "        pass\n",
    "except NameError:\n",
    "    batch_size = 64\n",
    "\n",
    "save_model_path = './image_classification'\n",
    "n_samples = 4\n",
    "top_n_predictions = 3\n",
    "\n",
    "def test_model():\n",
    "    \"\"\"\n",
    "    Test the saved model against the test dataset\n",
    "    \"\"\"\n",
    "\n",
    "    test_features, test_labels = pickle.load(open('preprocess_training.p', mode='rb'))\n",
    "    loaded_graph = tf.Graph()\n",
    "\n",
    "    with tf.Session(graph=loaded_graph) as sess:\n",
    "        # Load model\n",
    "        loader = tf.train.import_meta_graph(save_model_path + '.meta')\n",
    "        loader.restore(sess, save_model_path)\n",
    "\n",
    "        # Get Tensors from loaded model\n",
    "        loaded_x = loaded_graph.get_tensor_by_name('x:0')\n",
    "        loaded_y = loaded_graph.get_tensor_by_name('y:0')\n",
    "        loaded_keep_prob = loaded_graph.get_tensor_by_name('keep_prob:0')\n",
    "        loaded_logits = loaded_graph.get_tensor_by_name('logits:0')\n",
    "        loaded_acc = loaded_graph.get_tensor_by_name('accuracy:0')\n",
    "        \n",
    "        # Get accuracy in batches for memory limitations\n",
    "        test_batch_acc_total = 0\n",
    "        test_batch_count = 0\n",
    "        \n",
    "        for train_feature_batch, train_label_batch in helper.batch_features_labels(test_features, test_labels, batch_size):\n",
    "            test_batch_acc_total += sess.run(\n",
    "                loaded_acc,\n",
    "                feed_dict={loaded_x: train_feature_batch, loaded_y: train_label_batch, loaded_keep_prob: 1.0})\n",
    "            test_batch_count += 1\n",
    "\n",
    "        print('Testing Accuracy: {}\\n'.format(test_batch_acc_total/test_batch_count))\n",
    "\n",
    "        # Print Random Samples\n",
    "        random_test_features, random_test_labels = tuple(zip(*random.sample(list(zip(test_features, test_labels)), n_samples)))\n",
    "        random_test_predictions = sess.run(\n",
    "            tf.nn.top_k(tf.nn.softmax(loaded_logits), top_n_predictions),\n",
    "            feed_dict={loaded_x: random_test_features, loaded_y: random_test_labels, loaded_keep_prob: 1.0})\n",
    "        helper.display_image_predictions(random_test_features, random_test_labels, random_test_predictions)\n",
    "\n",
    "\n",
    "test_model()"
   ]
  },
  {
   "cell_type": "markdown",
   "metadata": {
    "deletable": true,
    "editable": true
   },
   "source": [
    "## Why 50-80% Accuracy?\n",
    "You might be wondering why you can't get an accuracy any higher. First things first, 50% isn't bad for a simple CNN.  Pure guessing would get you 10% accuracy. However, you might notice people are getting scores [well above 80%](http://rodrigob.github.io/are_we_there_yet/build/classification_datasets_results.html#43494641522d3130).  That's because we haven't taught you all there is to know about neural networks. We still need to cover a few more techniques.\n",
    "## Submitting This Project\n",
    "When submitting this project, make sure to run all the cells before saving the notebook.  Save the notebook file as \"dlnd_image_classification.ipynb\" and save it as a HTML file under \"File\" -> \"Download as\".  Include the \"helper.py\" and \"problem_unittests.py\" files in your submission."
   ]
  }
 ],
 "metadata": {
  "kernelspec": {
   "display_name": "Python 3",
   "language": "python",
   "name": "python3"
  },
  "language_info": {
   "codemirror_mode": {
    "name": "ipython",
    "version": 3
   },
   "file_extension": ".py",
   "mimetype": "text/x-python",
   "name": "python",
   "nbconvert_exporter": "python",
   "pygments_lexer": "ipython3",
   "version": "3.5.2"
  },
  "widgets": {
   "state": {},
   "version": "1.1.2"
  }
 },
 "nbformat": 4,
 "nbformat_minor": 0
}
